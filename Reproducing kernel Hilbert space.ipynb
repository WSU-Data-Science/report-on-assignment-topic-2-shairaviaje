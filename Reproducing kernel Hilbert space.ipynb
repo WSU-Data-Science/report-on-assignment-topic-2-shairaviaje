{
 "cells": [
  {
   "cell_type": "markdown",
   "metadata": {},
   "source": [
    "**Reproducing Kernel Hilbert Space - Contents**\n",
    "\n",
    "[Part 1: Introduction to Reproducing Kernel Hilbert Spaces](#section1)\n",
    "\n",
    "[Part 2: Application in the Representer Theorem](#section2)\n",
    "\n",
    "------"
   ]
  },
  {
   "cell_type": "markdown",
   "metadata": {},
   "source": [
    "<a id='section1'></a>"
   ]
  },
  {
   "cell_type": "markdown",
   "metadata": {},
   "source": [
    "# <font color=#02b5af > Reproducing kernel Hilbert space <font>"
   ]
  },
  {
   "cell_type": "markdown",
   "metadata": {},
   "source": [
    "Let's start with a simple example :\n",
    "\n",
    "What if we are given this dataset with a task to classify these two classes of red and blue dots.\n",
    "\n",
    "\n",
    "\n",
    "<img src = \"image2.png\">\n",
    " "
   ]
  },
  {
   "cell_type": "markdown",
   "metadata": {},
   "source": [
    "**<font color=#b50264> What can be done here?</font>**\n",
    "\n",
    "As, it can be seen that the given data is in 2-d what if we can take it to some higher dimensions.\n",
    "\n",
    "For an instance from 2-d to 3-d. \n",
    "\n",
    "<img src = \"img1.gif\">\n",
    "\n",
    "\n",
    "\n",
    "    "
   ]
  },
  {
   "cell_type": "markdown",
   "metadata": {},
   "source": [
    "It seems like a fair solution, but the only problem is **<font color=#b50264>how to do it</font>**?"
   ]
  },
  {
   "cell_type": "markdown",
   "metadata": {},
   "source": [
    "what we did here is just mapped data from 2-d to 3-d space.\n",
    "\n",
    "So, the question is what does **mapping** mean and how to do it?\n",
    "\n",
    "Suppose we have a number, and we pass it through a function to get some output.  This gives us a new set of numbers, now instead of using our original set of numbers we use this new set with higher dimensions for performing the respective task.\n",
    "\n",
    "<img src = \"image1.png\">"
   ]
  },
  {
   "cell_type": "markdown",
   "metadata": {},
   "source": [
    "Now the question arises that from **<font color=#b50264>where to get this $\\Phi$ ?</font>**"
   ]
  },
  {
   "cell_type": "markdown",
   "metadata": {},
   "source": [
    "**<font color=#02b5af >Assumption </font>** : Output is a real number\n",
    "\n",
    "***"
   ]
  },
  {
   "cell_type": "markdown",
   "metadata": {},
   "source": [
    "**H** = Space of hypothesis: To start with let's say, it is a subset space of all possible functions from input to output.\n",
    "\n",
    "$$ \\large \\mathcal{H} \\subset \\{f | f:x \\rightarrow \\mathbb{R}\\} $$"
   ]
  },
  {
   "cell_type": "markdown",
   "metadata": {},
   "source": [
    "what are the properties, we are looking for, to define this hypothesis space?\n",
    "\n",
    "<font color= #005c20>\n",
    "\n",
    "> 1. It must be simple (too complex can lead to overfitting). But not too simple, as it might not overfit the data but will give bad results.\n",
    "\n",
    "           Example: constant functions, extremely stable but not flexible enough.\n",
    "  \n",
    "> 2. It should be simple but flexible.\n",
    "\n",
    "> 3. Computationally efficient.\n",
    "    \n",
    "</font>"
   ]
  },
  {
   "cell_type": "markdown",
   "metadata": {},
   "source": [
    "One simple reasonable exampe of this is : **<font color=#02b5af >Linear Functions</font>**\n",
    "\n",
    "$$ \\large \\mathcal{H} = \\{f:x \\rightarrow \\mathbb{R} | 3 w \\epsilon \\mathbb{R}^D , f(x) = w^T x, \\forall x \\epsilon \\mathbb{R}^d$$ "
   ]
  },
  {
   "cell_type": "markdown",
   "metadata": {},
   "source": [
    "> - It is a continuous collection of inputs, each function here is parametrized by W.\n",
    "\n",
    "> - For a given function there is only one w and for a given w there is only one function.\n",
    "\n",
    "> - Inner product:  As linear space means we can add functions or multiple them by numbers. We can find the norm by finding the inner product of associated vectors.\n",
    "\n",
    "$$ \\large d(f, \\bar{f} = ||w - \\bar{w}|| $$\n",
    "\n",
    "> - It states that if we have 2 functions, defined by 2 vectors, and if these vectors are in the vicinity then the function is also going to be vicinity at every possible value.\n",
    "\n",
    "> - So, the good thing here is that functions become vectors and we know how to deal with vectors i.e taking projection, norms, etc.\n",
    "\n",
    "***\n"
   ]
  },
  {
   "cell_type": "markdown",
   "metadata": {},
   "source": [
    "So, if our hypothesis space contains a linear set of functions, data that is linearly separable can easily be classified.\n",
    "\n",
    "What if data is not linearly separable, as with linear function at most we can only create a bunch of straight lines. \n",
    "\n",
    "So, what we are lacking here is flexibility.\n",
    "\n",
    "We need our hypothesis space with some more flexible functions."
   ]
  },
  {
   "cell_type": "markdown",
   "metadata": {},
   "source": [
    "To solve this, let's understand the concept of a finite dictionary:\n",
    "\n",
    "**<font color=#02b5af >Finite Dictionary</font>**: These are the set of functions. Every element inside is called **<font color=#02b5af >atoms or features</font>**.\n",
    "\n",
    "\n",
    "$$ \\large D = \\{\\Phi, x \\rightarrow \\mathbb{R} | i = 1,2...P\\} p \\in \\mathbb{N}\\} $$"
   ]
  },
  {
   "cell_type": "markdown",
   "metadata": {},
   "source": [
    "$\\Phi$ is just a function from the input to the output, and let's say we got p of them.\n",
    "\n",
    "p $\\geqslant$ d (dimension of input space)"
   ]
  },
  {
   "cell_type": "markdown",
   "metadata": {},
   "source": [
    "Let's take a function from this space now , By taking the linear combination.\n",
    "\n",
    "$$ \\large \\mathcal{H} = \\{ f:x \\rightarrow \\mathbb{R} \\ 3 w \\epsilon \\mathbb{R}^P, f = \\sum_{j=1}^P w_j \\Phi_j \\} $$"
   ]
  },
  {
   "cell_type": "markdown",
   "metadata": {},
   "source": [
    "For instance, if your data (x) is a set that contains the graphs then D can be a dictionary of 10 functions which are amazing for working with graphs."
   ]
  },
  {
   "cell_type": "markdown",
   "metadata": {},
   "source": [
    "**<font color=#b50264>Properties of this space of functions:</font>**\n",
    "\n",
    "<font color= #005c20>\n",
    "\n",
    "> - It is a linear space which means we can associate each function with a vector.\n",
    "\n",
    "> - We can define the inner product.\n",
    "\n",
    "> - So, now we have a dictionary of linearly dependent features.\n",
    "\n",
    "> - What we have until now is actually good, we can perform operations like computing gradients in case we want to minimize the function. Moreover, as we can define the inner product which give us the notion of orthogonality.\n",
    "\n",
    "***\n",
    "    \n",
    "</font>"
   ]
  },
  {
   "cell_type": "markdown",
   "metadata": {},
   "source": [
    "**<font color=#b50264>Q. What do we gain here ?</font>**\n",
    "\n",
    "A. Now, we can build non-linear features and for doing that $\\Phi$ doesn't have to be linear. As the function, itself is linear in parameters, but with respect to input, it is non-linear because we are seeing the input through $\\Phi$.\n",
    "\n",
    "Example: $\\Phi$ could be Sine, Cosine, exponential, or any polynomial function. So, by taking linear combination we can build non-linear functions.\n",
    "\n",
    "So far now we are at a good place, we have a parametrization that is linear.\n",
    "    "
   ]
  },
  {
   "cell_type": "markdown",
   "metadata": {},
   "source": [
    "**<font color=#b50264>Q. What are we still missing ?</font>**\n",
    "\n",
    "> We would like to kill the assumption that we have finite p. we have to find something which can allow us to work in a larger space. what if we can have infinite-dimensional H?\n",
    "\n",
    "From where we will get $\\Phi$ ?\n",
    "\n",
    "if we choose polynomial we have to stick with polynomial, if we choose sine or cosine we have to stick with that. so, from where we will get $\\Phi$. it is important to get the right $\\Phi$ because it holds all the information about the function we want to estimate.\n",
    "\n",
    "What if we can invent or reproduce this $\\Phi$ depending on the data."
   ]
  },
  {
   "cell_type": "markdown",
   "metadata": {},
   "source": [
    "Seems like there is a mathematical concept called **<font color=#02b5af >Hilbert Space</font>** that can solve our problem."
   ]
  },
  {
   "cell_type": "markdown",
   "metadata": {},
   "source": [
    "If we have a linear space with the inner product and we want to generalize it to infinite dimension, we have some technical conditions to fulfill like we want series of functions to converge and then we are good to go. The name we give to the space with these properties **<font color=#02b5af >(Linear space + inner product + completeness)</font>** is Hilbert space.  Let's say this is a paragraph  **X** for future references\n",
    "\n",
    "\n",
    "Moving away from our original problem, let's first understand what a **<font color=#02b5af >Hilbert Space is ?</font>**"
   ]
  },
  {
   "cell_type": "markdown",
   "metadata": {},
   "source": [
    "<img src =\"eq6.png\">"
   ]
  },
  {
   "cell_type": "markdown",
   "metadata": {},
   "source": [
    "For understanding Hilbert Spaces let's start it from scratch, so the first thing to understand is that what is a sequence?\n",
    "\n",
    "***\n",
    "\n",
    "**<font color=#02b5af >Sequence</font>**: is just a ordered set inside the metric space X.if $a_{1}$ , $a_{2}$, $a_{3}$...etc. denote the terms of the sequence then 1,2,3,4.. denotes the position of those terms.\n",
    "\n",
    "**<font color=#02b5af >Convergence</font>**: A sequence ($X_{n}$) is a metric space (X,d) is called **<font color=#02b5af >convergent</font>** if there is a limit point we call $\\bar{x}$"
   ]
  },
  {
   "cell_type": "markdown",
   "metadata": {},
   "source": [
    "What this means is that if we take a ball of whatever arbitrary size,  we will always find some point in the sequence say N after which, all the points will fall within that ball. So, the sequence remains within that ball."
   ]
  },
  {
   "cell_type": "markdown",
   "metadata": {},
   "source": [
    "Let's take **<font color=#b50264>example of a series that does not converge.</font>**\n",
    "\n",
    "X = (0,1]\n",
    "\n",
    "$$ \\large s: N \\rightarrow x $$\n",
    "\n",
    "$$ \\large s: n \\rightarrow \\frac{1}{n} $$\n",
    "\n",
    "$$ \\large s_1 = \\frac{1}{1}, s_2 = \\frac{1}{2}, s_3 = \\frac{1}{3}, ... , s_n \\frac{1}{n} $$"
   ]
  },
  {
   "cell_type": "markdown",
   "metadata": {},
   "source": [
    "Considering 0 is not the element of set X, where will this series converge?\n",
    "\n",
    "In the case of real line this series converges at zero, but zero is not an element of a given metric space. So, there is no element in a given metric space at which the series converges. \n",
    "\n",
    "***"
   ]
  },
  {
   "cell_type": "markdown",
   "metadata": {},
   "source": [
    "**<font color=#02b5af >Cauchy Sequence</font>** "
   ]
  },
  {
   "cell_type": "markdown",
   "metadata": {},
   "source": [
    "If the terms of the given sequence become very close to each other when it progresses we call it a Cauchy sequence. it means after certain points all the elements are so close that they seem at the same point."
   ]
  },
  {
   "cell_type": "markdown",
   "metadata": {},
   "source": [
    "**<font color=#02b5af >Banach Space</font>** : To understand the Banach space, it's necessary to understand the concept of norm first. "
   ]
  },
  {
   "cell_type": "markdown",
   "metadata": {},
   "source": [
    "A norm is a mathematical object which describes the quantity in some sense(possible abstract), it tells about the size, length, or extent of the given object(vector, matrice). Normally single bars |x| is used to denote the vector or quaternion norms while ||x|| double bar is used for matrix norms."
   ]
  },
  {
   "cell_type": "markdown",
   "metadata": {},
   "source": [
    "**<font color=#02b5af >Properties of a norm :</font>**\n",
    "\n",
    "> 1. Positive definite : ||x|| ≥ 0 for all x ∈ $R^d$ and also ||x|| = 0 iff x = 0\n",
    "\n",
    "> 2. Absolutely Homogenious : ||αx|| = |α| · ||x|| for all α ∈ R, x ∈ $R^d$\n",
    "\n",
    "> 3. Triangle inequality :  ||x + y|| ≤ ||x|| + ||y|| for all x, y ∈ $R^d$\n",
    "\n",
    "***\n"
   ]
  },
  {
   "cell_type": "markdown",
   "metadata": {},
   "source": [
    "**<font color=#02b5af >Normed Space</font>**: Vector space witn norm is called normed space.(X,||.||)"
   ]
  },
  {
   "cell_type": "markdown",
   "metadata": {},
   "source": [
    "**<font color=#02b5af >Complete Metric Space</font>**: We saw the property of convergence, in simpler words what it meant is that if the sequence is not converging means there is a hole in space or it can be said that the space is not complete."
   ]
  },
  {
   "cell_type": "markdown",
   "metadata": {},
   "source": [
    "X = [0,3] with ($d_{(x,y)}$)  = |x-y| is a complete because sequence is converging at 0 and 3 given that it's a closed set."
   ]
  },
  {
   "cell_type": "markdown",
   "metadata": {},
   "source": [
    "Now we can define **<font color=#02b5af >Banach Space</font>**"
   ]
  },
  {
   "cell_type": "markdown",
   "metadata": {},
   "source": [
    "if (X,$d_{||.||}$) is a complete metric space, than the normed space is called a **<font color=#02b5af >Banach Space</font>**"
   ]
  },
  {
   "cell_type": "markdown",
   "metadata": {},
   "source": [
    "So, until now we know that by norm we mean to measure distances and length,  and by inner product, it means <x,y>. we are measuring distances, length, angles. So it gives the geometry of a plane."
   ]
  },
  {
   "cell_type": "markdown",
   "metadata": {},
   "source": [
    "A map <**.** , **.**> : X*X $\\longrightarrow$ $ F $ is called an inner product if :\n",
    "\n",
    ">1. <x,x> $\\geq$ 0 for all x ∈ X and <x,x> = 0\n",
    "\n",
    ">2. <x,y> = <y,x> for $F = R$\n",
    "\n",
    ">3. <x,$y_{1}$+$y_{2}$> = <x,$y_{1}$> + <x,$y_{2}$> for all x,$y_{1}$,$y_{2}$ ∈ X\n",
    "\n",
    "f <**.**,**.**> is a inner product, then $$\\large \\vert\\vert x\\vert \\vert_{<., .>} = \\sqrt{<x , x>}$$\n",
    "\n",
    "***"
   ]
  },
  {
   "cell_type": "markdown",
   "metadata": {},
   "source": [
    "**<font color=#02b5af >Definition</font> :** (x, <.>) is called **<font color=#02b5af >Hilbert Space</font>** if \n",
    "\n",
    "$$ \\large X , \\vert\\vert .\\vert \\vert_{<., .>} $$ is a **<font color=#02b5af >Banach Space.</font>**"
   ]
  },
  {
   "cell_type": "markdown",
   "metadata": {},
   "source": [
    "It means that it is a vector space where we can measure length, angles and it is also a complete metric space. So, Hilbert space is a real or complete vector space with an inner product such that the associated metric space is complete."
   ]
  },
  {
   "cell_type": "markdown",
   "metadata": {},
   "source": [
    "<img src = \"img3.png\">"
   ]
  },
  {
   "cell_type": "markdown",
   "metadata": {},
   "source": [
    "So, now we have space that is linear, has an inner product, and complete.\n",
    "If you see above we discussed a problem referenced as paragraph **X** we were looking for creating an infinite dictionary. We wanted p to be infinite, which means we want our space to be of infinite dimensions. So, we can say we need a **<font color=#02b5af >Hilbert Space</font>**\n",
    "\n",
    "***"
   ]
  },
  {
   "cell_type": "markdown",
   "metadata": {},
   "source": [
    "Now we have a complete, linear space with infinite dimensions but this is not enough we also need to have some sort of linear structure. it turns out there are some small changes that can help us in getting linear structure."
   ]
  },
  {
   "cell_type": "markdown",
   "metadata": {},
   "source": [
    "There is one property which can help  :\n",
    "\n",
    "**<font color=#02b5af >Property of having evaluation functionals continous.</font>**\n",
    "\n",
    "Let's see this in detail.\n"
   ]
  },
  {
   "cell_type": "markdown",
   "metadata": {},
   "source": [
    "**<font color=#02b5af >Functionals</font>** are mathematical objects which can take input as a function and return a number.\n",
    "\n",
    "**<font color=#02b5af >Evaluation Functionals</font>** are the functions that return the value of the function at a point that evaluates a function.\n",
    "\n",
    "So the evaluation functionals are continuous means that if two functions are close then the evaluation functions are also going to be close. They just map functions into values.\n",
    "\n",
    "if $$ \\large\\vert \\vert f-f^` \\vert \\vert \\leq \\delta $$ "
   ]
  },
  {
   "cell_type": "markdown",
   "metadata": {},
   "source": [
    "then there exists a \n",
    "$$ \\large \\epsilon _{\\delta}  $$"
   ]
  },
  {
   "cell_type": "markdown",
   "metadata": {},
   "source": [
    "and $$ \\large \\vert f(x) - f`(x) \\vert <  \\epsilon _{\\delta} $$"
   ]
  },
  {
   "cell_type": "markdown",
   "metadata": {},
   "source": [
    "So, we are looking for something which has these two properties :\n",
    "\n",
    "<font color= #005c20>\n",
    "\n",
    "> 1. It should have the property of evaluation functionals are continuous. \n",
    "\n",
    "> 2. It should be from the Hilbert space of functions.\n",
    "\n",
    "To understand it better, let's take two examples, one which has the property of evaluation functionals are continuous but not the Hilbert space of functions and vice versa\n",
    "    \n",
    "</font>\n",
    "\n",
    "***\n",
    "  "
   ]
  },
  {
   "cell_type": "markdown",
   "metadata": {},
   "source": [
    "**<font color=#b50264>Example 1 :</font>**\n",
    "\n",
    "Let's take a real line x ($ X \\longrightarrow$ $ R $ )\n",
    "\n",
    "C(x) = space of continous function"
   ]
  },
  {
   "cell_type": "markdown",
   "metadata": {},
   "source": [
    "What is the natural norm in the case of continuous function :\n",
    "\n",
    "If we want to attach a length to a continous function we use **<font color=#02b5af >supremum norm</font>** :\n",
    "\n",
    "$$ \\large \\vert \\vert f \\vert \\vert_{\\infty} = sup_{x} \\vert f(x) \\vert $$"
   ]
  },
  {
   "cell_type": "markdown",
   "metadata": {},
   "source": [
    "This is not a Hilbert space because Norm is not coming from the inner product, this is a $L^1$ norm.\n",
    "\n",
    "**<font color=#b50264>Note:</font>** if the norm of the function is not coming from the inner product then it's not a Hilbert space."
   ]
  },
  {
   "cell_type": "markdown",
   "metadata": {},
   "source": [
    "What about the property of **<font color=#02b5af >evaluation functions</font>**, can we evaluate this continuous function at a given point? \n",
    "\n",
    "Here the norm is actually evaluating the function at an extremely positive point. So, if the functions are close then the points are also going to be close.\n",
    "\n",
    "This example is not a part of Hilbert's space but following the property of evaluation functionals."
   ]
  },
  {
   "cell_type": "markdown",
   "metadata": {},
   "source": [
    "**<font color=#b50264>Example 2:</font>**"
   ]
  },
  {
   "cell_type": "markdown",
   "metadata": {},
   "source": [
    "Take $L^2$ of R,  which is just space of function such that it is finite.\n",
    "\n",
    "$$ \\large L^2(R) = \\{f \\int \\vert f(x) \\vert^2 dx < x \\} $$"
   ]
  },
  {
   "cell_type": "markdown",
   "metadata": {},
   "source": [
    "As, the norm comes from the inner product it is a Hilbert space.\n",
    "\n",
    "**<font color=#b50264>What about the second requirement:</font>**\n",
    "\n",
    "If we take $L^2$, does it has continuous evaluation functions. No, because it is defined from the equivalence class of functions.\n",
    "\n",
    "<img src = \"img2.gif\">"
   ]
  },
  {
   "cell_type": "markdown",
   "metadata": {},
   "source": [
    "This function is completely defined by integral of functions and integral of functions does not care about what we do at one single point. So, there is no way to control :\n",
    "\n",
    "$$ \\large \\vert f(x) - \\vert f(x)` \\vert $$"
   ]
  },
  {
   "cell_type": "markdown",
   "metadata": {},
   "source": [
    "So, $L^2$ is a space that satisfies the assumption of Hilbert space **<font color=#02b5af >(linear space, inner product, completeness)</font>** but does not satisfy the evaluation functional assumption."
   ]
  },
  {
   "cell_type": "markdown",
   "metadata": {},
   "source": [
    "We need a function space with a norm but with the power to control what the function does at every point.\n",
    "\n",
    "***"
   ]
  },
  {
   "cell_type": "markdown",
   "metadata": {},
   "source": [
    "So, we need a function space where norm controls what the function does at every point, this is what we call a **<font color=#02b5af >Reproducing Kernel Hilbert Space (RKHS)</font>**\n",
    "\n",
    "<img src =\"rkhs.png\">\n"
   ]
  },
  {
   "cell_type": "markdown",
   "metadata": {},
   "source": [
    "**<font color=#b50264>Reproducing kernel Hilbert space (RKHS)</font>** is a space satisfying these four properties :\n",
    "\n",
    "<font color= #005c20>\n",
    "\n",
    "> 1. It is a linear space.\n",
    "\n",
    "> 2. It has a norm defined by the inner product.\n",
    "\n",
    "> 3. It is a complete place. \n",
    "\n",
    "> 4 It has evaluation functional property.\n",
    "    \n",
    "</font>\n"
   ]
  },
  {
   "cell_type": "markdown",
   "metadata": {},
   "source": [
    "Whenever all these assumptions are satisfied, we get a function which is called a **<font color=#02b5af >Reproducing Kernel</font>**"
   ]
  },
  {
   "cell_type": "markdown",
   "metadata": {},
   "source": [
    "<a id='reproducing'></a>"
   ]
  },
  {
   "cell_type": "markdown",
   "metadata": {},
   "source": [
    "**<font color=#02b5af >Reproducing kernel is a function</font>** K x*x $\\longrightarrow $ R goes from input to output and has two properties.\n",
    "\n",
    "\n",
    "> If we fix one entry K(x,.) $\\varepsilon$ H, this function belongs to Hilbert space and if we take the inner product of any function with this function K(x,.) then this gives us f(x) back.\n",
    "\n",
    "$$ \\large \\langle f, K(x,.)\\rangle \\geqslant f(x) $$"
   ]
  },
  {
   "cell_type": "markdown",
   "metadata": {},
   "source": [
    "If H is RKHS $\\Longrightarrow \\exists$  reproducing kernel \n",
    "\n",
    "If H has reproducing kernel $\\Longrightarrow \\exists$ RKHS \n",
    "\n",
    "\n",
    "***\n",
    "\n"
   ]
  },
  {
   "cell_type": "markdown",
   "metadata": {},
   "source": [
    "**<font color=#b50264>Summary:</font>**\n",
    "\n",
    "RKHS is just a general mathematical object. it is just Hilbert space of function + evaluation functional requirement.\n",
    "Then we saw two examples of continuous functions for one reason or another they gave rise to RKHS.\n",
    "\n",
    "Then we saw a theorem states whenever we have reproducing kernel Hilbert space we have some special function associated with it what we call a reproducing kernel. "
   ]
  },
  {
   "cell_type": "markdown",
   "metadata": {},
   "source": [
    "**<font color=#b50264>Example :</font>**"
   ]
  },
  {
   "cell_type": "markdown",
   "metadata": {},
   "source": [
    "$$ \\large H : \\{ f :  X \\longrightarrow  R  | \\exists  w  \\epsilon R^p , f = \\sum_{j=1}^p w^j \\phi_{j}  \\} $$"
   ]
  },
  {
   "cell_type": "markdown",
   "metadata": {},
   "source": [
    "is it a hilbert space ?"
   ]
  },
  {
   "cell_type": "markdown",
   "metadata": {},
   "source": [
    "It is a linear, how do we have inner product \n",
    "\n",
    "$$ \\large <f,f`>_H = <w,w`>_{R^p} $$"
   ]
  },
  {
   "cell_type": "markdown",
   "metadata": {},
   "source": [
    "$$ \\large \\vert \\vert f(x) \\leq \\vert \\vert w \\vert \\vert \\sqrt \\sum_{j=1}^p  (\\phi_{j}(x)^2)   $$"
   ]
  },
  {
   "cell_type": "markdown",
   "metadata": {},
   "source": [
    "As, the inner product define the norm so, it is a Hilbert space.\n",
    "\n",
    "**<font color=#b50264>Is this the reproducing kernel for this space?</font>**\n",
    "\n",
    "Remove one entry and check if it is still a function in H space.\n",
    "\n",
    "$$ \\large K(x,.) = \\sqrt \\sum_{j=1}^p  (\\phi_{j} . (x) \\phi_{j})   $$\n",
    "\n",
    "this is just a linear combination of a bunch of numbers, so this still belongs to H.\n",
    "\n",
    "\n",
    "\n",
    "\n"
   ]
  },
  {
   "cell_type": "markdown",
   "metadata": {},
   "source": [
    "So, it is a reproducing kernel for this space.\n",
    "\n",
    "***"
   ]
  },
  {
   "cell_type": "markdown",
   "metadata": {},
   "source": [
    "<a id='svm'></a>"
   ]
  },
  {
   "cell_type": "markdown",
   "metadata": {},
   "source": [
    "***\n",
    "Let's see a application of reproducing kernel and how they solve the problem of support vector machine."
   ]
  },
  {
   "cell_type": "markdown",
   "metadata": {},
   "source": [
    "We will be using **<font color=#b50264>Scikit-learn library</font>** for implementing the kernel. "
   ]
  },
  {
   "cell_type": "markdown",
   "metadata": {},
   "source": [
    "**<font color=#02b5af >Support vector machine SVM</font>** is a supervised machine learning classification algorithm. if the data is linearly separable in 2-d then the learning algorithm learns a boundary that divides the data with the aim to minimize the misclassification error.\n",
    "\n",
    "<img src = \"gif1.gif\">"
   ]
  },
  {
   "cell_type": "markdown",
   "metadata": {},
   "source": [
    "Our example here is about predicting if the bank currency note is authentic or not. \n",
    "\n",
    "We will be using 4 features :\n",
    "\n",
    "<font color= #005c20>\n",
    "\n",
    "> 1. Image variance.\n",
    "\n",
    "> 2. Image entropy.\n",
    "\n",
    "> 3. Curtosis of image.\n",
    "\n",
    "> 4. Wavelet transformed skewness of image.\n",
    "    \n",
    "</font>"
   ]
  },
  {
   "cell_type": "markdown",
   "metadata": {},
   "source": [
    "### <font color=#b50264>Importing libraries</font>"
   ]
  },
  {
   "cell_type": "code",
   "execution_count": 6,
   "metadata": {},
   "outputs": [],
   "source": [
    "import pandas as pd\n",
    "import matplotlib.pyplot as plt\n",
    "%matplotlib inline\n",
    "import numpy as np"
   ]
  },
  {
   "cell_type": "markdown",
   "metadata": {},
   "source": [
    "### <font color=#b50264> Loading the Dataset</font>"
   ]
  },
  {
   "cell_type": "markdown",
   "metadata": {},
   "source": [
    "Link of dataset : https://archive.ics.uci.edu/ml/datasets/banknote+authentication\n",
    "\n"
   ]
  },
  {
   "cell_type": "code",
   "execution_count": 7,
   "metadata": {},
   "outputs": [],
   "source": [
    "bdata = pd.read_csv(\"bill_authentication.csv\")"
   ]
  },
  {
   "cell_type": "markdown",
   "metadata": {},
   "source": [
    "### <font color=#b50264> Exploring the dataset</font>"
   ]
  },
  {
   "cell_type": "code",
   "execution_count": 9,
   "metadata": {},
   "outputs": [
    {
     "name": "stdout",
     "output_type": "stream",
     "text": [
      "(1372, 5)\n",
      "   Variance  Skewness  Curtosis  Entropy  Class\n",
      "0   3.62160    8.6661   -2.8073 -0.44699      0\n",
      "1   4.54590    8.1674   -2.4586 -1.46210      0\n",
      "2   3.86600   -2.6383    1.9242  0.10645      0\n",
      "3   3.45660    9.5228   -4.0112 -3.59440      0\n",
      "4   0.32924   -4.4552    4.5718 -0.98880      0\n"
     ]
    }
   ],
   "source": [
    "print(bdata.shape)\n",
    "print(bdata.head())"
   ]
  },
  {
   "cell_type": "markdown",
   "metadata": {},
   "source": [
    "### <font color=#b50264>Data Preprocessing</font>"
   ]
  },
  {
   "cell_type": "code",
   "execution_count": 33,
   "metadata": {},
   "outputs": [],
   "source": [
    "# dividing the data into train and test set\n",
    "\n",
    "X = bdata.drop('Class', axis=1)\n",
    "y = bdata['Class']\n",
    "\n",
    "from sklearn.model_selection import train_test_split\n",
    "X_train, X_test, y_train, y_test = train_test_split(X, y, test_size = 0.30)"
   ]
  },
  {
   "cell_type": "markdown",
   "metadata": {},
   "source": [
    "### <font color=#b50264>Making the model</font>"
   ]
  },
  {
   "cell_type": "code",
   "execution_count": 34,
   "metadata": {},
   "outputs": [
    {
     "data": {
      "text/plain": [
       "SVC(kernel='linear')"
      ]
     },
     "execution_count": 34,
     "metadata": {},
     "output_type": "execute_result"
    }
   ],
   "source": [
    "from sklearn.svm import SVC\n",
    "model = SVC(kernel='linear')\n",
    "model.fit(X_train, y_train)"
   ]
  },
  {
   "cell_type": "markdown",
   "metadata": {},
   "source": [
    "### <font color=#b50264>Making Predictions</font>"
   ]
  },
  {
   "cell_type": "code",
   "execution_count": 35,
   "metadata": {},
   "outputs": [
    {
     "name": "stdout",
     "output_type": "stream",
     "text": [
      "[[213   6]\n",
      " [  1 192]]\n",
      "              precision    recall  f1-score   support\n",
      "\n",
      "           0       1.00      0.97      0.98       219\n",
      "           1       0.97      0.99      0.98       193\n",
      "\n",
      "    accuracy                           0.98       412\n",
      "   macro avg       0.98      0.98      0.98       412\n",
      "weighted avg       0.98      0.98      0.98       412\n",
      "\n"
     ]
    }
   ],
   "source": [
    "y_pred = model.predict(X_test)\n",
    "\n",
    "from sklearn.metrics import classification_report, confusion_matrix\n",
    "print(confusion_matrix(y_test,y_pred))\n",
    "print(classification_report(y_test,y_pred))"
   ]
  },
  {
   "cell_type": "markdown",
   "metadata": {},
   "source": [
    "The Model is giving 7 misclassifications. Let's see if we can make it better with some kernel trick."
   ]
  },
  {
   "cell_type": "markdown",
   "metadata": {},
   "source": [
    "What if our data is not linearly seperable \n",
    "\n",
    "<img src = \"svm3.png\">"
   ]
  },
  {
   "cell_type": "markdown",
   "metadata": {},
   "source": [
    "In case of non-linearity , the straight line can not give us the decision boundary."
   ]
  },
  {
   "cell_type": "markdown",
   "metadata": {},
   "source": [
    "Instead of using SVM we need to use Kernel SVM. As , kernel projects the non-linearity of data from lower dimensions to linearly seperable in higher dimensions. "
   ]
  },
  {
   "cell_type": "markdown",
   "metadata": {},
   "source": [
    "### <font color=#b50264> Implementing Kernel SVM with Scikit-Learn</font>"
   ]
  },
  {
   "cell_type": "markdown",
   "metadata": {},
   "source": [
    "### <font color=#b50264>SVM with gaussian kernel</font>"
   ]
  },
  {
   "cell_type": "code",
   "execution_count": 36,
   "metadata": {},
   "outputs": [
    {
     "data": {
      "text/plain": [
       "SVC()"
      ]
     },
     "execution_count": 36,
     "metadata": {},
     "output_type": "execute_result"
    }
   ],
   "source": [
    "from sklearn.svm import SVC\n",
    "model = SVC(kernel='rbf')\n",
    "model.fit(X_train, y_train)"
   ]
  },
  {
   "cell_type": "code",
   "execution_count": 37,
   "metadata": {},
   "outputs": [
    {
     "name": "stdout",
     "output_type": "stream",
     "text": [
      "[[218   1]\n",
      " [  0 193]]\n",
      "              precision    recall  f1-score   support\n",
      "\n",
      "           0       1.00      1.00      1.00       219\n",
      "           1       0.99      1.00      1.00       193\n",
      "\n",
      "    accuracy                           1.00       412\n",
      "   macro avg       1.00      1.00      1.00       412\n",
      "weighted avg       1.00      1.00      1.00       412\n",
      "\n"
     ]
    }
   ],
   "source": [
    "y_pred = model.predict(X_test)\n",
    "\n",
    "from sklearn.metrics import classification_report, confusion_matrix\n",
    "print(confusion_matrix(y_test,y_pred))\n",
    "print(classification_report(y_test,y_pred))"
   ]
  },
  {
   "cell_type": "markdown",
   "metadata": {},
   "source": [
    "Our SVM with gaussian kernel is giving quite a good result with only one missclassification\n",
    "\n",
    "***\n",
    "\n",
    "***"
   ]
  },
  {
   "cell_type": "markdown",
   "metadata": {},
   "source": [
    "### <font color=#b50264>Hilbert space in quantum mechanics</font>"
   ]
  },
  {
   "cell_type": "markdown",
   "metadata": {},
   "source": [
    "In quantum mechanics, we try to explain the interaction of subatomic particles, wave-particle duality, and the principle of uncertainty."
   ]
  },
  {
   "cell_type": "markdown",
   "metadata": {},
   "source": [
    "The most important function to study the subatomic particle is **<font color=#02b5af >Wave function</font>**"
   ]
  },
  {
   "cell_type": "markdown",
   "metadata": {},
   "source": [
    "If we throw a ball, we have a function to give the parabolic path of the ball thrown or we can say the behavior of the thrown object.\n",
    "\n",
    "<img src =\"q1.png\">"
   ]
  },
  {
   "cell_type": "markdown",
   "metadata": {},
   "source": [
    "Similarly, wave function to define the behaviour of quantum particle.\n",
    "\n",
    "<img src =\"q3.png\">"
   ]
  },
  {
   "cell_type": "markdown",
   "metadata": {},
   "source": [
    "So, next question arises is that what is this behaviour like ?\n",
    "\n",
    "The behaviour of the quantum particle can always be described using the **<font color=#02b5af >combination of sine wave and the cosine wave.</font>**\n",
    "\n",
    "<img src = \"q4.png\">"
   ]
  },
  {
   "cell_type": "markdown",
   "metadata": {},
   "source": [
    "The wave function is the mathematical description of a quantum object takes the form of a wave."
   ]
  },
  {
   "cell_type": "markdown",
   "metadata": {},
   "source": [
    "What if our electron is inside a box amd can only move in 1-d ?\n",
    "\n",
    "Does it move like a wave ?\n",
    "\n",
    "<img src = \"q5.png\">\n"
   ]
  },
  {
   "cell_type": "markdown",
   "metadata": {},
   "source": [
    "No , wave function describes something totally different. The x-axis describes where the electron can be in space when we square the value of y-axis it give us something called **<font color=#02b5af >probability amplitude</font>**. \n",
    "\n",
    "<img src = \"q6.png\">"
   ]
  },
  {
   "cell_type": "markdown",
   "metadata": {},
   "source": [
    "The probability amplitude is  like a wave of probability. it describes the likelihood of finding the electron in a given place."
   ]
  },
  {
   "cell_type": "markdown",
   "metadata": {},
   "source": [
    "Let's understand it with an example, what is there a thief in town. \n",
    "\n",
    "Police can catch him if they know where will he strike next.\n",
    "\n",
    "There is a higher probability of police finding him in a wealthier district.\n",
    "\n",
    "<img src = \"q7.png\">"
   ]
  },
  {
   "cell_type": "markdown",
   "metadata": {},
   "source": [
    "This can be thought of as a wave of probability, it's not real but just a set of abstract numbers that can be assigned to various parts of the city."
   ]
  },
  {
   "cell_type": "markdown",
   "metadata": {},
   "source": [
    "In a similar way, a wave function describes different probabilities of finding the particle at different locations."
   ]
  },
  {
   "cell_type": "markdown",
   "metadata": {},
   "source": [
    "If the electron is detected at a certain location, its wave function instantly collapses to a point and there is a zero probability of finding it anywhere else.\n",
    "\n",
    "***"
   ]
  },
  {
   "cell_type": "markdown",
   "metadata": {},
   "source": [
    "**<font color=#b50264>What space do we need for defining the wave function ?</font>**"
   ]
  },
  {
   "cell_type": "markdown",
   "metadata": {},
   "source": [
    "Hilbert space is one of the choices of physicists for describing the state of the quantum systems.\n",
    "\n",
    "The concepts of vectors play a vital role in providing information about any object and Hilbert space is a vector space of all possible functions subjected to some properties we discussed earlier.\n",
    "\n",
    "The wave function in quantum mechanics tells us about the possible states which a particle can have and there might be infinite possibilities to it. This fits the definition of Hilbert space. Each function can be described as a point in vector space with axes are the basis of vector and co-ordinates are the scalar product between the basis function and wave function. Hilbert space help physicists in reducing it to a finite set of basis functions. "
   ]
  },
  {
   "cell_type": "markdown",
   "metadata": {},
   "source": [
    "As we saw that the probability amplitude is the measure of the probability for finding the particle in some region of space. So, the wave function is square-integrable in such a way that the integral over all space of modulus squared converges according to the criteria of cauchy convergence. So, the function space should satisfy all the conditions of Hilbert's space.\n",
    "\n",
    "***"
   ]
  },
  {
   "cell_type": "markdown",
   "metadata": {},
   "source": [
    "## <font color=#b50264>Research scope of Reproducing kernel Hilbert space</font>"
   ]
  },
  {
   "cell_type": "markdown",
   "metadata": {},
   "source": [
    "The future scope can include the use of reproducing kernel Hilbert space for proving the optimality of activation functions used in neural networks.\n",
    "The main task of the activation functions in deep learning is to provide non-linearity to the model. we can construct the non-linear functions using the theory of RKHS and activation function constructed from RKHS then it can be considered optimal.\n",
    "\n",
    "Why we can consider it optimal?\n",
    "\n",
    "Because the activation function which will be created using RKHS will follow the properties of RKHS and vector spaces. it can lead to an efficient mapping process with the help of the inner product. \n",
    "\n",
    "The future work can involve finding the possibilities of creating periodic activation functions like sine activation function using RKHS.\n",
    "\n"
   ]
  },
  {
   "cell_type": "markdown",
   "metadata": {},
   "source": [
    "<a id='section2'></a>"
   ]
  },
  {
   "cell_type": "markdown",
   "metadata": {},
   "source": [
    "\n",
    "------\n",
    "\n",
    "\n",
    "# Representer Theorem\n",
    "\n",
    "<!---\n",
    "\n",
    "* ***Introduction to the representer theorem***\n",
    "    * ***Definition of Representer Theorem***\n",
    "* ***Where is it used and what kind of problems is it used for?***\n",
    "\n",
    "* format this to be the same throughout\n",
    "\n",
    "* Edit the equations to be equations and not images\n",
    "\n",
    "* Choose consistent variables (Stop changing between K and \\phi for e.g.!\n",
    "\n",
    "---> "
   ]
  },
  {
   "cell_type": "markdown",
   "metadata": {},
   "source": [
    "## Application of RKHS in Statistical Learning Theory\n",
    "\n",
    "One of the applications of Reproducing Kernel Hilbert Spaces (RKHS) is in statistical learning theory. Properties of RKHS allow for the representation of an optimisation problem of functions in an infinite space to be represented in the finite span of the training data. \n",
    "\n",
    "Formally, it is applied in the Representer Theorem, which is defined in the <a name=\"ref-1\"/>[(Paulsen and Raghupathi, 2016)](#cite-paulsen_raghupathi_2016) textbook, as a minimiser of a regularised risk functional defined over a reproducing kernel hilbert space, which can be represented as a finite linear combination of kernel products, which are evaluated on the input points in the training set data. \n",
    "\n",
    "The Representer Theorem can be applied in machine learning. One of the problems is choosing the optimum function which models the traning data that isn't too complex and creates overfitting, yet is simultaneously not too simple that it doesn't capture the essence of the data. \n",
    "\n",
    "However, solutions which exist on the Hilbert space, can exist in very high or infinite dimensions. Computationally, to solve which of these solutions is optimal, this would be difficult and inefficient. The Representer Theorem is used to solve this empirical risk minimisation problem, as it reduces the problem and allows it to be represented along only the span of the dimensions of the training data, instead of the infinite dimensions. \n",
    "\n",
    "The optimal is therefore found quicker and with more efficiency. It can be seen in, for example Support Vector Machine classification problems and ridge regression. "
   ]
  },
  {
   "cell_type": "markdown",
   "metadata": {},
   "source": [
    "## The Representer Theorem\n",
    "\n",
    "In machine learning, the problem lies in minimising a regularised risk functional. In an error minimisation problem, the problem typically is of the form:\n",
    "\n",
    "$$ \\large L ((x_1, y_1, f(x_1)),..., (x_n, y_n, f(x_n))) + \\lambda J(f) $$\n",
    "\n",
    "Where $x_n, y_n$ are the training data, $L$ is the loss function to minimise misclassification and inaccuracy, and $J(f)$ is the penalty term to prevent overfitting. \n",
    "\n",
    "The empirical risk minimisation problem aims to minimise this. It aims to identify the function, or set of possible functions that minimises the cost and penalty of a model for some training data.\n",
    "\n",
    "\n",
    "$$ \\large \\min L(f((x_1, y_1, f(x_1)), ..., (x_n, y_n, f(x_n))) + \\lambda J(f) $$\n",
    "\n",
    "\n",
    "If $x_i$ are points in the training data and $\\mathcal{H}$, indicates the hilbert space, the minimisation problem can also be expressed as:\n",
    "\n",
    "$$ \\large \\min_{f \\in \\mathcal{H}} \\sum_{i=1}^{n} L(f(x_i), y_i) + \\lambda ||f||^2_\\mathcal{H} $$\n",
    "\n",
    "The Representor Theorem indicates that due to properties of the RKHS, if the functions exist in the Hilbert space, then this can be represented as:\n",
    "\n",
    "\n",
    "$$ \\large f(x) = \\sum_{i=1}^n \\alpha_i K(x_i, .)$$\n",
    "\n",
    "\n",
    "Which is the sum of the linear combination of kernel products. Additionally, the inputs are only dependent on the training data points, thus is a quicker, more efficient solve of the problem. "
   ]
  },
  {
   "cell_type": "markdown",
   "metadata": {},
   "source": [
    "------"
   ]
  },
  {
   "cell_type": "markdown",
   "metadata": {},
   "source": [
    "\n",
    "## Proof\n",
    "\n",
    "It is because of the properties of RKHS that allow the representer theorem to be true and the problem in infinite dimensions to be reduced to a solve in the span of the training data. In particular, the orthogonal decomposition of the functions and the reproducing property of RKHS, are important in proving that this theorem exists.\n",
    "\n",
    "In the vector space $\\mathcal{H}$, the span of functions $K(X_i, .), ..., K(x_n)$ exist. \n",
    "\n",
    "Due to the orthogonal properties, given any $f \\in \\mathcal{H}$ we can decompose it into two components, one in this subspace $f_{||}$ and one in the subspace orthogonal to it $f_\\perp$. \n",
    "\n",
    "Thus, for any $f \\in \\mathcal{H}$, it can be decomposed into the sum of the subspace and the orthogonal subspace.\n",
    "\n",
    "$$\\large \\begin{align}\n",
    "f(X) &= f_{||}(X) + f_\\perp(X) \\\\\n",
    "&= \\sum_{i=1}^n \\alpha K({X_i}, X) + f_\\perp(X)\n",
    "\\end{align}$$\n"
   ]
  },
  {
   "cell_type": "markdown",
   "metadata": {},
   "source": [
    "**Example**\n",
    "\n",
    "This is an example of orthogonal decomposition in vectors <a name=\"ref-2\"/>[(Bengtsson, undefined)](#cite-bengtsson).\n",
    "\n",
    "Let $y$ be a subspace in $W$, then each vector can be written in the form\n",
    "\n",
    "$$ \\large y = \\hat{y} + z $$\n",
    "\n",
    "where $\\hat{y}$ is in $W$ and $z$ is in the orthogonal complement $W_\\perp$"
   ]
  },
  {
   "cell_type": "code",
   "execution_count": 62,
   "metadata": {},
   "outputs": [
    {
     "data": {
      "text/plain": [
       "array([3., 0., 3.])"
      ]
     },
     "execution_count": 62,
     "metadata": {},
     "output_type": "execute_result"
    }
   ],
   "source": [
    "# The span of W is in u1, u2\n",
    "u1 = np.array([-1,1,0])\n",
    "u2 = np.array([1,0,1])\n",
    "\n",
    "# the vector y\n",
    "y = np.array([2, 2, 4])\n",
    "\n",
    "# yhat - projecting a vector (equation from Bengtsson(2021))\n",
    "def proj (u, yval):\n",
    "    projected = np.dot(u, yval) / np.dot(u,u) * u \n",
    "    return(projected)\n",
    "    \n",
    "yhat = proj(u1, y) + proj(u2, y) # yhat in the subspace W\n",
    "yhat"
   ]
  },
  {
   "cell_type": "markdown",
   "metadata": {},
   "source": [
    "If the decomposition is rearranged,\n",
    "\n",
    "$$ \\large z = y - \\hat{y} $$"
   ]
  },
  {
   "cell_type": "code",
   "execution_count": 63,
   "metadata": {},
   "outputs": [
    {
     "data": {
      "text/plain": [
       "array([-1.,  2.,  1.])"
      ]
     },
     "execution_count": 63,
     "metadata": {},
     "output_type": "execute_result"
    }
   ],
   "source": [
    "z = y - yhat\n",
    "z"
   ]
  },
  {
   "cell_type": "markdown",
   "metadata": {},
   "source": [
    "If the calculated $\\hat{y}$ andd $z$ are orthogonal to each other, their dot product should be equal to 0."
   ]
  },
  {
   "cell_type": "code",
   "execution_count": 64,
   "metadata": {},
   "outputs": [
    {
     "data": {
      "text/plain": [
       "0.0"
      ]
     },
     "execution_count": 64,
     "metadata": {},
     "output_type": "execute_result"
    }
   ],
   "source": [
    "np.dot(yhat, z)"
   ]
  },
  {
   "cell_type": "markdown",
   "metadata": {},
   "source": [
    "This shows that the vectors, $\\hat{y}$ and $z$ are orthogonal to each other. And as $z$ was calculated as the difference between $y$ and $\\hat{y}$, the sum of the two vectors, which are orthogonal complements, compose the vector $y$."
   ]
  },
  {
   "cell_type": "markdown",
   "metadata": {},
   "source": [
    "Another property of RKHS is that the inner product of $f_\\perp(X)$ and $f_{||}$ is 0. Therefore, the inner product of the functions in the orthogonal and any of the data points is equal to 0:\n",
    "\n",
    "$$\\large \\langle f_\\perp, k(\\cdot, x_i) \\rangle = 0$$\n",
    "\n",
    "\n",
    "\n",
    "The reproducing property of RKHS, explained in [Part 1](#reproducing), such that, the inner product of any function with $k_x$ in the hilbert space, then $f(x)$ is returned. And this also occurs in the other direction.\n",
    "\n",
    "$$\\large \\langle f,k_x \\rangle = f(x)$$\n",
    "\n",
    "The combination of these properties provide the proof for the representer theorem. \n",
    "\n",
    "$$ \\large \\begin{align}\n",
    "f(x_i) & = \\langle f, (\\cdot, x_i) \\rangle &(1)\\\\\n",
    "& = \\langle f_{||}, k(\\cdot, x_i) \\rangle + \\langle f_\\perp, k(\\cdot, x_i)\\rangle &(2)\\\\\n",
    "& = f_{||}(x_i) &(3)\n",
    "\\end{align}$$\n",
    "\n",
    "The reproducing property allows $f(x_i)$ to be shown as the inner product of the function and the data points (1). \n",
    "\n",
    "Then, this can be decomposed into the sum of the functions on the subspace and its orthogonal (2).\n",
    "\n",
    "Because the inner product of the functions in the orthogonal space and the data points is equal to 0 (3), the function is equivalent to the functions in the subspace spanned by the training data. \n",
    "\n",
    "Thus, the computationally expensive problem of solving machine learning problems in infinite dimensions is able to be solved within the span of the training data, which is a quicker and more efficient solve. ."
   ]
  },
  {
   "cell_type": "markdown",
   "metadata": {},
   "source": [
    "------"
   ]
  },
  {
   "cell_type": "markdown",
   "metadata": {},
   "source": [
    "## SVM\n",
    "\n",
    "In the previous <a name=\"ref-3\"/>[(Dinuzzo and Scholkopf, 2012)](#cite-dinuzzo2012representer). The solution to the optimal hyperplane which separates two classes of data. The figure demonstrates the primal problem of a SVM.\n"
   ]
  },
  {
   "cell_type": "markdown",
   "metadata": {},
   "source": [
    "<img src = \"svm_class.png\">"
   ]
  },
  {
   "cell_type": "markdown",
   "metadata": {},
   "source": [
    "The aim is the maximise the margin and minimise the number of misclassification errors.\n",
    "\n",
    "The minimisation problem for SVM is generalised to:\n",
    "\n",
    "$$ \\large \\min_{w,b, \\zeta} \\frac{1}{2}w^T w + C \\sum_{i=1}^n \\zeta_i$$\n",
    "\n",
    "\n",
    "\n",
    "Maximise the margin, by minimising $||w||^2 = w^Tw$\n",
    "\n",
    "The representer theorem is applied then, \n",
    "\n",
    "And given a set of vectors $S := x_1, x_2, ..., x_m$ residing in a vector space $\\chi$ and mapping $\\varphi : \\chi \\rightarrow \\mathcal{F}$, where $\\mathcal{F}$ is a RKHS, then there exists a vector $\\alpha \\in \\mathbb{R}^m$ such that \n",
    "\n",
    "$$ \\large \\min_{w} \\{ f(\\langle w, \\varphi(x_1) \\rangle, \\langle w, \\varphi(x_2)\\rangle, ..., \\langle w, \\varphi(x_m) \\rangle) + R(||w||)\\} $$\n",
    "\n",
    "$$\\large w = \\sum_{i=1}^{m} \\alpha_i y_i (x_i)$$\n",
    "\n",
    "In SVM classification problems, $\\alpha_i y_i$, for data points which are not support vectors will be equal to zero, otherwhise, $\\alpha_i \\geq 0$.\n",
    "\n",
    "The output for a given sample becomes\n",
    "\n",
    "$$\\large \\sum_{i \\in SV} y_i \\alpha_i K(x_i, x)$$\n",
    "\n",
    "Which solves the SVM optimisation with respect to only the $\\alpha_i$ coefficient, and no longer is dependent on $w$. \n",
    "\n",
    "Why is this valuable?\n",
    "\n",
    "Compared to the primal problem, where finding the weights and distance between each point is required to maximise the problem, this dual form only requires computing the inner products of the support vectors. This is more efficient than the primal form. Additionally, it is useful for solving non-linearly separable classification problems with kernels. "
   ]
  },
  {
   "cell_type": "markdown",
   "metadata": {},
   "source": [
    "**Example**\n",
    "\n",
    "In the following example, a radially separable data set is generate with 2 different classes. The SVM in python uses this representation to calculate the optimal coefficients, which minimise the problem and find the optimum solution, implementation of this representer theorem."
   ]
  },
  {
   "cell_type": "code",
   "execution_count": 7,
   "metadata": {},
   "outputs": [],
   "source": [
    "# import required packages\n",
    "\n",
    "import pandas as pd\n",
    "import matplotlib.pyplot as plt\n",
    "%matplotlib inline\n",
    "import numpy as np\n",
    "import sklearn\n",
    "from sklearn import svm\n",
    "import math\n",
    "\n",
    "plt.rcParams['figure.figsize'] = [15, 12]"
   ]
  },
  {
   "cell_type": "code",
   "execution_count": 8,
   "metadata": {},
   "outputs": [
    {
     "data": {
      "image/png": "[encoded data removed]",
      "text/plain": [
       "<Figure size 1080x864 with 1 Axes>"
      ]
     },
     "metadata": {
      "needs_background": "light"
     },
     "output_type": "display_data"
    }
   ],
   "source": [
    "# generate dataset\n",
    "N = 100\n",
    "X = np.zeros(shape=(N*2, 3))\n",
    "Y = np.repeat([-1, 1], repeats = N)\n",
    "\n",
    "radius0 = np.random.normal(loc=1, scale=0.1, size=N)  \n",
    "theta0 = np.linspace(start=0, stop=360, num=N)\n",
    "radius1 = np.random.normal(loc=2, scale=0.2, size=N)  \n",
    "theta1 = np.linspace(start=0, stop=360, num=N)\n",
    "radius, theta = np.concatenate([radius0, radius1]), np.concatenate([theta0, theta1])\n",
    "\n",
    "X[:, 0] = radius * np.cos(theta)  \n",
    "X[:, 1] = radius * np.sin(theta)   \n",
    "\n",
    "plt.plot(X[Y==-1, 0], X[Y==-1, 1], 'bo', markersize=5)\n",
    "plt.plot(X[Y==1, 0], X[Y==1, 1], 'ro', markersize=5)\n",
    "plt.xlabel('x1'); plt.ylabel('x2')\n",
    "plt.show()"
   ]
  },
  {
   "cell_type": "markdown",
   "metadata": {},
   "source": [
    "The data is clearly not linearly separable. If it is mapped to a higher dimension, then it can be linearly separated by a hyperplane. "
   ]
  },
  {
   "cell_type": "code",
   "execution_count": 21,
   "metadata": {},
   "outputs": [
    {
     "data": {
      "image/png": "[encoded data removed]",
      "text/plain": [
       "<Figure size 1080x864 with 1 Axes>"
      ]
     },
     "metadata": {
      "needs_background": "light"
     },
     "output_type": "display_data"
    }
   ],
   "source": [
    "# map to higher dimension\n",
    "X[:, 2] = X[:, 0]**2 + X[:, 1]**2\n",
    "clf = svm.SVC(kernel='linear')\n",
    "clf.fit(X, Y)\n",
    "coef, intercept = clf.coef_[0], clf.intercept_\n",
    "\n",
    "# plot the linear hyperplane that separates the data\n",
    "fig = plt.figure()\n",
    "ax = fig.add_subplot(111, projection='3d')\n",
    "ax.scatter(X[Y==-1, 0], X[Y==-1, 1], X[Y==-1, 2], 'b') #class -1\n",
    "ax.scatter(X[Y==1, 0], X[Y==1, 1], X[Y==1, 2], 'r') #class 1\n",
    "xx, yy = np.meshgrid(range(-3, 4), range(-3, 4))\n",
    "# coefficients of the hyperplane that is the optimum classifier\n",
    "z = (-coef[0]*xx - coef[1]*yy - intercept)/coef[2]\n",
    "ax.plot_surface(xx, yy, z, color='green', alpha=0.3)\n",
    "\n",
    "ax.view_init(10, 30)\n",
    "ax.set_xlabel('x1'); ax.set_ylabel('x2'); ax.set_zlabel('x3')\n",
    "plt.show()"
   ]
  },
  {
   "cell_type": "markdown",
   "metadata": {},
   "source": [
    "The following coefficients are calculated by the function, minimising the cost and maximising the margin between the support vectors, thus optimising the solution of this problem. The predicted signs of the outputs will indicate which class the data points would be predicted to be a part of, either above or below the separating hyperplane. \n",
    "\n"
   ]
  },
  {
   "cell_type": "code",
   "execution_count": 10,
   "metadata": {},
   "outputs": [
    {
     "data": {
      "text/plain": [
       "array([-0.23811556,  0.21599072,  1.65685094])"
      ]
     },
     "execution_count": 10,
     "metadata": {},
     "output_type": "execute_result"
    }
   ],
   "source": [
    "coef # the calculated optimum coefficients for the hyperplane which separates the data"
   ]
  },
  {
   "cell_type": "code",
   "execution_count": 11,
   "metadata": {},
   "outputs": [
    {
     "data": {
      "text/plain": [
       "array([[-0.83200047,  0.92952335,  1.55623844],\n",
       "       [-1.31298625, -0.19687748,  1.76269364],\n",
       "       [ 1.77674043,  0.        ,  3.15680656],\n",
       "       [-1.07362   ,  1.1994643 ,  2.59137452],\n",
       "       [-0.23634281, -1.74341226,  3.09534423],\n",
       "       [-1.52474428, -0.07984798,  2.33122081]])"
      ]
     },
     "execution_count": 11,
     "metadata": {},
     "output_type": "execute_result"
    }
   ],
   "source": [
    "clf.support_vectors_ # the support vectors in the data"
   ]
  },
  {
   "cell_type": "code",
   "execution_count": 12,
   "metadata": {},
   "outputs": [
    {
     "data": {
      "text/plain": [
       "SVC()"
      ]
     },
     "execution_count": 12,
     "metadata": {},
     "output_type": "execute_result"
    }
   ],
   "source": [
    "clf_rbf = svm.SVC(kernel='rbf')\n",
    "clf_rbf.fit(X, Y)"
   ]
  },
  {
   "cell_type": "markdown",
   "metadata": {},
   "source": [
    "------"
   ]
  },
  {
   "cell_type": "markdown",
   "metadata": {},
   "source": [
    "\n",
    "## Kernel Ridge Regression\n",
    "\n",
    "Another application of the Representer Theorem is in kernel ridge regression <a name=\"ref-4\"/>[(Zhdanov and Kalnishkan, 2013)](#cite-zhdanov2013identity). The loss can be measured by squared error loss, here represented by $y_i - f(x_i))^2$. The problem to be solved is\n",
    "\n",
    "$$\\large f^* = \\arg \\min_{f} \\frac{1}{n} \\sum_{i=1}^{n}( y_i - f(x_i) )^2 + \\lambda ||f||_{\\mathcal{H}}^2 $$\n",
    "\n",
    "As the regulariser $f$ is a functional, the representer theorem can be applied and $f$ can be expressed as\n",
    "\n",
    "$$ \\large f = \\sum_{i=1}^n \\alpha_i k(\\cdot, x_i) $$\n",
    "\n",
    "This can be substituted into the following\n",
    "\n",
    "$$ \\large \\arg \\min_{\\alpha} \\sum_{i=1}^n ( y_i - \\sum_{j=1}^n \\alpha_j k(x_i, x_j ) )^2 + \\lambda||\\sum_{i=1}^n \\alpha_i k(\\cdot, x_i)||^2 $$\n",
    "\n",
    "The literature indicate that the paramater $\\alpha$, that minimises this function can be written as <a name=\"ref-5\"/>[(Mateo-Garcia, Laparra and Gomez-Chova, 2018)](#cite-mateo2018optimizing). \n",
    "\n",
    "$$ \\large \\hat{\\alpha} = (K + \\lambda I )^{-1}Y. $$"
   ]
  },
  {
   "cell_type": "markdown",
   "metadata": {},
   "source": [
    "The application of the representer theorem in the optimality problem in ridge regression, is a more effcient solve and allows for modelling of non-linear data. \n",
    "\n",
    "**Example**\n",
    "\n",
    "Using kernel ridge regression to fit to some non-linear data. "
   ]
  },
  {
   "cell_type": "code",
   "execution_count": 77,
   "metadata": {},
   "outputs": [
    {
     "data": {
      "text/plain": [
       "[<matplotlib.lines.Line2D at 0x23db890c400>]"
      ]
     },
     "execution_count": 77,
     "metadata": {},
     "output_type": "execute_result"
    },
    {
     "data": {
      "image/png": "[encoded data removed]",
      "text/plain": [
       "<Figure size 1080x864 with 1 Axes>"
      ]
     },
     "metadata": {
      "needs_background": "light"
     },
     "output_type": "display_data"
    }
   ],
   "source": [
    "from sklearn import kernel_ridge\n",
    "\n",
    "lambda_val = 0.01\n",
    "gamma = 1\n",
    "\n",
    "m = 100\n",
    "x_train = np.random.rand(m)*10 - 5   \n",
    "\n",
    "x_test  = np.linspace(-5, 5, 100)\n",
    "m_test  = len(x_test);\n",
    "\n",
    "def f(x):\n",
    "    return 0.1*(x + x**2 + 8*x + 0.2*x**2 - 0.7*x**3)*x\n",
    "\n",
    "y_train = f(x_train) + np.random.randn(m)   # add some noise\n",
    "\n",
    "x_train = x_train.reshape(-1, 1)\n",
    "x_test  = x_test.reshape(-1, 1)\n",
    "\n",
    "# fitting using kernel ridge regression\n",
    "clf = kernel_ridge.KernelRidge(alpha=lambda_val, kernel='rbf', gamma=gamma)\n",
    "clf.fit(x_train, y_train)\n",
    "\n",
    "y_test = clf.predict(x_test)\n",
    "plt.scatter(x_train, y_train)\n",
    "plt.plot(x_test, y_test)\n"
   ]
  },
  {
   "cell_type": "markdown",
   "metadata": {},
   "source": [
    "------"
   ]
  },
  {
   "cell_type": "markdown",
   "metadata": {},
   "source": [
    "## RKHS, Representer Theorem and ReLu Activation Function\n",
    "\n",
    "In the previous section, it was mentioned that the activation function, ReLU, used in neural networks is a RKHS. Because of this, it has been claimed that the optimality of using ReLU as an activation function in neural networks can be proven by the Representer Theorem. \n",
    "\n",
    "Research has proposed a way to optimise activation functions of deep neural networks was to add a functional regularisation to the cost function. Thus, with this form, the representer theorem could be applied and optimal network configurations can be achieved <a name=\"ref-6\"/>[(Unser, 2019)](#cite-JMLR:v20:18-418). They state that this form is similar to the existing ReLU activation function. \n",
    "\n",
    "The properties of ReLU due to their RKHS is explored in <a name=\"ref-7\"/>[(Sun, Gilbert and Tewari, 2018)](#cite-sun2018approximation) and indicates its feature in relatively lower computational cost. The representer theorem, finds the optimum solution to a problem, more efficiently and is less computationally taxing. As the theorem can be applied to ReLU, this may be in support of the efficiency of ReLU as an activation function. \n",
    "\n",
    "However, a deeper understanding is required to interpret and understand this application and the method to achieving this claim. "
   ]
  },
  {
   "cell_type": "markdown",
   "metadata": {},
   "source": [
    "------"
   ]
  },
  {
   "cell_type": "markdown",
   "metadata": {},
   "source": [
    "## Conclusions\n",
    "\n",
    "Reproducing Kernel Hilbert Spaces are a mathematical object, that is a Hilbert space of functions with evaluation functional requirements. They have properties that allow for the various applications in quantum mechanics and optimising machine learning solutions. One of its applications is in the Representer Theorem, which states that the optimisation roblem on the hilbert space, may have solutions in high or infinite dimensions and can be represented as a problem that takes the inputs of the span of the training data. The representer theorem is used if formulating a more efficient solution for SVM classification problems and its form can also be seen in the solve for regression problems. Additionally, the representer theorem has been stated to be related to the optimality of the ReLU activation function in deep learning neural networks. Further understanding is required for how this optimisation is proven and solving the optimal coefficient in the representer theorem."
   ]
  },
  {
   "cell_type": "markdown",
   "metadata": {},
   "source": [
    "------"
   ]
  },
  {
   "cell_type": "markdown",
   "metadata": {},
   "source": [
    "<!--bibtex\n",
    "\n",
    "@book{paulsen_raghupathi_2016, place={Cambridge}, series={Cambridge Studies in Advanced Mathematics}, title={An Introduction to the Theory of Reproducing Kernel Hilbert Spaces}, DOI={10.1017/CBO9781316219232}, publisher={Cambridge University Press}, author={Paulsen, Vern I. and Raghupathi, Mrinal}, year={2016}, collection={Cambridge Studies in Advanced Mathematics}}\n",
    "\n",
    "@article{svm,\n",
    "author = {García-Gonzalo, Esperanza and Fernández-Muñiz, Zulima and Garcia Nieto, Paulino Jose and Sánchez, Antonio and Menéndez, Marta},\n",
    "year = {2016},\n",
    "month = {06},\n",
    "pages = {531},\n",
    "title = {Hard-Rock Stability Analysis for Span Design in Entry-Type Excavations with Learning Classifiers},\n",
    "volume = {9},\n",
    "journal = {Materials},\n",
    "doi = {10.3390/ma9070531}\n",
    "}\n",
    "\n",
    "@article{JMLR:v20:18-418,\n",
    "  author  = {Unser, Michael},\n",
    "  title   = {A Representer Theorem for Deep Neural Networks},\n",
    "  journal = {Journal of Machine Learning Research},\n",
    "  year    = {2019},\n",
    "  volume  = {20},\n",
    "  number  = {110},\n",
    "  pages   = {1-30},\n",
    "}\n",
    "\n",
    "@misc{bengtsson, title={Orthogonal Decomposition}, url={https://mathworld.wolfram.com/OrthogonalDecomposition.html}, journal={Wolfram MathWorld}, author={Bengtsson, Viktor}} \n",
    "\n",
    "@article{zhdanov2013identity,\n",
    "  title={An identity for kernel ridge regression},\n",
    "  author={Zhdanov, Fedor and Kalnishkan, Yuri},\n",
    "  journal={Theoretical Computer Science},\n",
    "  volume={473},\n",
    "  pages={157--178},\n",
    "  year={2013},\n",
    "  publisher={Elsevier}\n",
    "}\n",
    "\n",
    "@article{dinuzzo2012representer,\n",
    "  title={The representer theorem for Hilbert spaces: a necessary and sufficient condition},\n",
    "  author={Dinuzzo, Francesco and Scholkopf, Bernhard},\n",
    "  journal={arXiv preprint arXiv:1205.1928},\n",
    "  year={2012}\n",
    "}\n",
    "\n",
    "@article{sun2018approximation,\n",
    "  title={On the approximation properties of random ReLU features},\n",
    "  author={Sun, Yitong and Gilbert, Anna and Tewari, Ambuj},\n",
    "  journal={arXiv preprint arXiv:1810.04374},\n",
    "  year={2018}\n",
    "}\n",
    "\n",
    "@inproceedings{mateo2018optimizing,\n",
    "  title={Optimizing kernel ridge regression for remote sensing problems},\n",
    "  author={Mateo-Garcia, Gonzalo and Laparra, Valero and Gomez-Chova, Luis},\n",
    "  booktitle={IGARSS 2018-2018 IEEE International Geoscience and Remote Sensing Symposium},\n",
    "  pages={4007--4010},\n",
    "  year={2018},\n",
    "  organization={IEEE}\n",
    "}\n",
    "\n",
    "-->"
   ]
  },
  {
   "cell_type": "markdown",
   "metadata": {},
   "source": [
    "# References\n",
    "\n",
    "<a name=\"cite-paulsen_raghupathi_2016\"/><sup>[^](#ref-1) </sup>Paulsen, Vern I. and Raghupathi, Mrinal. 2016. _An Introduction to the Theory of Reproducing Kernel Hilbert Spaces_.\n",
    "\n",
    "<a name=\"cite-bengtsson\"/><sup>[^](#ref-2) </sup>Bengtsson, Viktor. undefined. _Orthogonal Decomposition_. [URL](https://mathworld.wolfram.com/OrthogonalDecomposition.html)\n",
    "\n",
    "<a name=\"cite-dinuzzo2012representer\"/><sup>[^](#ref-3) </sup>Dinuzzo, Francesco and Scholkopf, Bernhard. 2012. _The representer theorem for Hilbert spaces: a necessary and sufficient condition_.\n",
    "\n",
    "<a name=\"cite-zhdanov2013identity\"/><sup>[^](#ref-4) </sup>Zhdanov, Fedor and Kalnishkan, Yuri. 2013. _An identity for kernel ridge regression_.\n",
    "\n",
    "<a name=\"cite-mateo2018optimizing\"/><sup>[^](#ref-5) </sup>Mateo-Garcia, Gonzalo and Laparra, Valero and Gomez-Chova, Luis. 2018. _Optimizing kernel ridge regression for remote sensing problems_.\n",
    "\n",
    "<a name=\"cite-JMLR:v20:18-418\"/><sup>[^](#ref-6) </sup>Unser, Michael. 2019. _A Representer Theorem for Deep Neural Networks_.\n",
    "\n",
    "<a name=\"cite-sun2018approximation\"/><sup>[^](#ref-7) </sup>Sun, Yitong and Gilbert, Anna and Tewari, Ambuj. 2018. _On the approximation properties of random ReLU features_.\n",
    "\n"
   ]
  }
 ],
 "metadata": {
  "kernelspec": {
   "display_name": "Python 3",
   "language": "python",
   "name": "python3"
  },
  "language_info": {
   "codemirror_mode": {
    "name": "ipython",
    "version": 3
   },
   "file_extension": ".py",
   "mimetype": "text/x-python",
   "name": "python",
   "nbconvert_exporter": "python",
   "pygments_lexer": "ipython3",
   "version": "3.8.8"
  },
  "toc": {
   "base_numbering": 1,
   "nav_menu": {},
   "number_sections": true,
   "sideBar": true,
   "skip_h1_title": false,
   "title_cell": "Table of Contents",
   "title_sidebar": "Contents",
   "toc_cell": false,
   "toc_position": {},
   "toc_section_display": true,
   "toc_window_display": false
  }
 },
 "nbformat": 4,
 "nbformat_minor": 4
}
