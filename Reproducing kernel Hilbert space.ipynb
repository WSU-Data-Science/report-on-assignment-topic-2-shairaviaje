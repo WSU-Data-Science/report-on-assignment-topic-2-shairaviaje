{
 "cells": [
  {
   "cell_type": "markdown",
   "metadata": {},
   "source": [
    "# <font color=#02b5af > Reproducing kernel Hilbert space <font>"
   ]
  },
  {
   "cell_type": "markdown",
   "metadata": {},
   "source": [
    "Let's start with a simple example :\n",
    "\n",
    "What if we are given this dataset with a task to classify these two classes of red and blue dots.\n",
    "\n",
    "\n",
    "\n",
    "<img src = \"image2.png\">\n",
    " "
   ]
  },
  {
   "cell_type": "markdown",
   "metadata": {},
   "source": [
    "**<font color=#b50264> What can be done here?</font>**\n",
    "\n",
    "As, it can be seen that the given data is in 2-d what if we can take it to some higher dimensions.\n",
    "\n",
    "For an instance from 2-d to 3-d. \n",
    "\n",
    "<img src = \"img1.gif\">\n",
    "\n",
    "\n",
    "\n",
    "    "
   ]
  },
  {
   "cell_type": "markdown",
   "metadata": {},
   "source": [
    "It seems like a fair solution, but the only problem is **<font color=#b50264>how to do it</font>**?"
   ]
  },
  {
   "cell_type": "markdown",
   "metadata": {},
   "source": [
    "what we did here is just mapped data from 2-d to 3-d space.\n",
    "\n",
    "So, the question is what does **mapping** mean and how to do it?\n",
    "\n",
    "Suppose we have a number, and we pass it through a function to get some output.  This gives us a new set of numbers, now instead of using our original set of numbers we use this new set with higher dimensions for performing the respective task.\n",
    "\n",
    "<img src = \"image1.png\">"
   ]
  },
  {
   "cell_type": "markdown",
   "metadata": {},
   "source": [
    "Now the question arises that from **<font color=#b50264>where to get this $\\Phi$ ?</font>**"
   ]
  },
  {
   "cell_type": "markdown",
   "metadata": {},
   "source": [
    "**<font color=#02b5af >Assumption </font>** : Output is a real number\n",
    "\n",
    "***"
   ]
  },
  {
   "cell_type": "markdown",
   "metadata": {},
   "source": [
    "**H** = Space of hypothesis: To start with let's say, it is a subset space of all possible functions from input to output.\n",
    "\n",
    "<img src= \"eq1.png\">\n"
   ]
  },
  {
   "cell_type": "markdown",
   "metadata": {},
   "source": [
    "what are the properties, we are looking for, to define this hypothesis space?\n",
    "\n",
    "<font color= #005c20>\n",
    "\n",
    "> 1. It must be simple (too complex can lead to overfitting). But not too simple, as it might not overfit the data but will give bad results.\n",
    "\n",
    "           Example: constant functions, extremely stable but not flexible enough.\n",
    "  \n",
    "> 2. It should be simple but flexible.\n",
    "\n",
    "> 3. Computationally efficient.\n",
    "    \n",
    "</font>"
   ]
  },
  {
   "cell_type": "markdown",
   "metadata": {},
   "source": [
    "One simple reasonable exampe of this is : **<font color=#02b5af >Linear Functions</font>**\n",
    "\n",
    "<img src = \"eq2.png\">    "
   ]
  },
  {
   "cell_type": "markdown",
   "metadata": {},
   "source": [
    "> - It is a continuous collection of inputs, each function here is parametrized by W.\n",
    "\n",
    "> - For a given function there is only one w and for a given w there is only one function.\n",
    "\n",
    "> - Inner product:  As linear space means we can add functions or multiple them by numbers. We can find the norm by finding the inner product of associated vectors.\n",
    "\n",
    "<img src = \"eq3.png\">\n",
    "\n",
    "> - It states that if we have 2 functions, defined by 2 vectors, and if these vectors are in the vicinity then the function is also going to be vicinity at every possible value.\n",
    "\n",
    "> - So, the good thing here is that functions become vectors and we know how to deal with vectors i.e taking projection, norms, etc.\n",
    "\n",
    "***\n"
   ]
  },
  {
   "cell_type": "markdown",
   "metadata": {},
   "source": [
    "So, if our hypothesis space contains a linear set of functions, data that is linearly separable can easily be classified.\n",
    "\n",
    "What if data is not linearly separable, as with linear function at most we can only create a bunch of straight lines. \n",
    "\n",
    "So, what we are lacking here is flexibility.\n",
    "\n",
    "We need our hypothesis space with some more flexible functions."
   ]
  },
  {
   "cell_type": "markdown",
   "metadata": {},
   "source": [
    "To solve this, let's understand the concept of a finite dictionary:\n",
    "\n",
    "**<font color=#02b5af >Finite Dictionary</font>**: These are the set of functions. Every element inside is called **<font color=#02b5af >atoms or features</font>**.\n",
    "\n",
    "\n",
    "<img src = \"eq4.png\">"
   ]
  },
  {
   "cell_type": "markdown",
   "metadata": {},
   "source": [
    "$\\Phi$ is just a function from the input to the output, and let's say we got p of them.\n",
    "\n",
    "p $\\geqslant$ d (dimension of input space)"
   ]
  },
  {
   "cell_type": "markdown",
   "metadata": {},
   "source": [
    "Let's take a function from this space now , By taking the linear combination.\n",
    "\n",
    "<img src = \"eq5.png\">"
   ]
  },
  {
   "cell_type": "markdown",
   "metadata": {},
   "source": [
    "For instance, if your data (x) is a set that contains the graphs then D can be a dictionary of 10 functions which are amazing for working with graphs."
   ]
  },
  {
   "cell_type": "markdown",
   "metadata": {},
   "source": [
    "**<font color=#b50264>Properties of this space of functions:</font>**\n",
    "\n",
    "<font color= #005c20>\n",
    "\n",
    "> - It is a linear space which means we can associate each function with a vector.\n",
    "\n",
    "> - We can define the inner product.\n",
    "\n",
    "> - So, now we have a dictionary of linearly dependent features.\n",
    "\n",
    "> - What we have until now is actually good, we can perform operations like computing gradients in case we want to minimize the function. Moreover, as we can define the inner product which give us the notion of orthogonality.\n",
    "\n",
    "***\n",
    "    \n",
    "</font>"
   ]
  },
  {
   "cell_type": "markdown",
   "metadata": {},
   "source": [
    "**<font color=#b50264>Q. What do we gain here ?</font>**\n",
    "\n",
    "A. Now, we can build non-linear features and for doing that $\\Phi$ doesn't have to be linear. As the function, itself is linear in parameters, but with respect to input, it is non-linear because we are seeing the input through $\\Phi$.\n",
    "\n",
    "Example: $\\Phi$ could be Sine, Cosine, exponential, or any polynomial function. So, by taking linear combination we can build non-linear functions.\n",
    "\n",
    "So far now we are at a good place, we have a parametrization that is linear.\n",
    "    "
   ]
  },
  {
   "cell_type": "markdown",
   "metadata": {},
   "source": [
    "**<font color=#b50264>Q. What are we still missing ?</font>**\n",
    "\n",
    "> We would like to kill the assumption that we have finite p. we have to find something which can allow us to work in a larger space. what if we can have infinite-dimensional H?\n",
    "\n",
    "From where we will get $\\Phi$ ?\n",
    "\n",
    "if we choose polynomial we have to stick with polynomial, if we choose sine or cosine we have to stick with that. so, from where we will get $\\Phi$. it is important to get the right $\\Phi$ because it holds all the information about the function we want to estimate.\n",
    "\n",
    "What if we can invent or reproduce this $\\Phi$ depending on the data."
   ]
  },
  {
   "cell_type": "markdown",
   "metadata": {},
   "source": [
    "Seems like there is a mathematical concept called **<font color=#02b5af >Hilbert Space</font>** that can solve our problem."
   ]
  },
  {
   "cell_type": "markdown",
   "metadata": {},
   "source": [
    "If we have a linear space with the inner product and we want to generalize it to infinite dimension, we have some technical conditions to fulfill like we want series of functions to converge and then we are good to go. The name we give to the space with these properties **<font color=#02b5af >(Linear space + inner product + completeness)</font>** is Hilbert space.  Let's say this is a paragraph  **X** for future references\n",
    "\n",
    "\n",
    "Moving away from our original problem, let's first understand what a **<font color=#02b5af >Hilbert Space is ?</font>**"
   ]
  },
  {
   "cell_type": "markdown",
   "metadata": {},
   "source": [
    "<img src =\"eq6.png\">"
   ]
  },
  {
   "cell_type": "markdown",
   "metadata": {},
   "source": [
    "For understanding Hilbert Spaces let's start it from scratch, so the first thing to understand is that what is a sequence?\n",
    "\n",
    "***\n",
    "\n",
    "**<font color=#02b5af >Sequence</font>**: is just a ordered set inside the metric space X.if $a_{1}$ , $a_{2}$, $a_{3}$...etc. denote the terms of the sequence then 1,2,3,4.. denotes the position of those terms.\n",
    "\n",
    "**<font color=#02b5af >Convergence</font>**: A sequence ($X_{n}$) is a metric space (X,d) is called **<font color=#02b5af >convergent</font>** if there is a limit point we call $\\bar{x}$"
   ]
  },
  {
   "cell_type": "markdown",
   "metadata": {},
   "source": [
    "What this means is that if we take a ball of whatever arbitrary size,  we will always find some point in the sequence say N after which, all the points will fall within that ball. So, the sequence remains within that ball."
   ]
  },
  {
   "cell_type": "markdown",
   "metadata": {},
   "source": [
    "Let's take **<font color=#b50264>example of a series that does not converge.</font>**\n",
    "\n",
    "X = (0,1]\n",
    "\n",
    "<img src= \"eq7.png\">\n",
    "<img src = \"eq8.png\">\n",
    "\n"
   ]
  },
  {
   "cell_type": "markdown",
   "metadata": {},
   "source": [
    "Considering 0 is not the element of set X, where will this series converge?\n",
    "\n",
    "In the case of real line this series converges at zero, but zero is not an element of a given metric space. So, there is no element in a given metric space at which the series converges. \n",
    "\n",
    "***"
   ]
  },
  {
   "cell_type": "markdown",
   "metadata": {},
   "source": [
    "**<font color=#02b5af >Cauchy Sequence</font>** "
   ]
  },
  {
   "cell_type": "markdown",
   "metadata": {},
   "source": [
    "If the terms of the given sequence become very close to each other when it progresses we call it a Cauchy sequence. it means after certain points all the elements are so close that they seem at the same point."
   ]
  },
  {
   "cell_type": "markdown",
   "metadata": {},
   "source": [
    "**<font color=#02b5af >Banach Space</font>** : To understand the Banach space, it's necessary to understand the concept of norm first. "
   ]
  },
  {
   "cell_type": "markdown",
   "metadata": {},
   "source": [
    "A norm is a mathematical object which describes the quantity in some sense(possible abstract), it tells about the size, length, or extent of the given object(vector, matrice). Normally single bars |x| is used to denote the vector or quaternion norms while ||x|| double bar is used for matrix norms."
   ]
  },
  {
   "cell_type": "markdown",
   "metadata": {},
   "source": [
    "**<font color=#02b5af >Properties of a norm :</font>**\n",
    "\n",
    "> 1. Positive definite : ||x|| ≥ 0 for all x ∈ $R^d$ and also ||x|| = 0 iff x = 0\n",
    "\n",
    "> 2. Absolutely Homogenious : ||αx|| = |α| · ||x|| for all α ∈ R, x ∈ $R^d$\n",
    "\n",
    "> 3. Triangle inequality :  ||x + y|| ≤ ||x|| + ||y|| for all x, y ∈ $R^d$\n",
    "\n",
    "***\n"
   ]
  },
  {
   "cell_type": "markdown",
   "metadata": {},
   "source": [
    "**<font color=#02b5af >Normed Space</font>**: Vector space witn norm is called normed space.(X,||.||)"
   ]
  },
  {
   "cell_type": "markdown",
   "metadata": {},
   "source": [
    "**<font color=#02b5af >Complete Metric Space</font>**: We saw the property of convergence, in simpler words what it meant is that if the sequence is not converging means there is a hole in space or it can be said that the space is not complete."
   ]
  },
  {
   "cell_type": "markdown",
   "metadata": {},
   "source": [
    "X = [0,3] with ($d_{(x,y)}$)  = |x-y| is a complete because sequence is converging at 0 and 3 given that it's a closed set."
   ]
  },
  {
   "cell_type": "markdown",
   "metadata": {},
   "source": [
    "Now we can define **<font color=#02b5af >Banach Space</font>**"
   ]
  },
  {
   "cell_type": "markdown",
   "metadata": {},
   "source": [
    "if (X,$d_{||.||}$) is a complete metric space, than the normed space is called a **<font color=#02b5af >Banach Space</font>**"
   ]
  },
  {
   "cell_type": "markdown",
   "metadata": {},
   "source": [
    "So, until now we know that by norm we mean to measure distances and length,  and by inner product, it means <x,y>. we are measuring distances, length, angles. So it gives the geometry of a plane."
   ]
  },
  {
   "cell_type": "markdown",
   "metadata": {},
   "source": [
    "A map <**.** , **.**> : X*X $\\longrightarrow$ $ F $ is called an inner product if :\n",
    "\n",
    ">1. <x,x> $\\geq$ 0 for all x ∈ X and <x,x> = 0\n",
    "\n",
    ">2. <x,y> = <y,x> for $F = R$\n",
    "\n",
    ">3. <x,$y_{1}$+$y_{2}$> = <x,$y_{1}$> + <x,$y_{2}$> for all x,$y_{1}$,$y_{2}$ ∈ X\n",
    "\n",
    "f <**.**,**.**> is a inner product, then $$\\vert\\vert x\\vert \\vert_{<., .>} = \\sqrt{<x , x>}$$\n",
    "\n",
    "***"
   ]
  },
  {
   "cell_type": "markdown",
   "metadata": {},
   "source": [
    "**<font color=#02b5af >Definition</font> :** (x, <.>) is called **<font color=#02b5af >Hilbert Space</font>** if \n",
    "\n",
    "$$ X , \\vert\\vert .\\vert \\vert_{<., .>} $$ is a **<font color=#02b5af >Banach Space.</font>**"
   ]
  },
  {
   "cell_type": "markdown",
   "metadata": {},
   "source": [
    "It means that it is a vector space where we can measure length, angles and it is also a complete metric space. So, Hilbert space is a real or complete vector space with an inner product such that the associated metric space is complete."
   ]
  },
  {
   "cell_type": "markdown",
   "metadata": {},
   "source": [
    "<img src = \"img3.png\">"
   ]
  },
  {
   "cell_type": "markdown",
   "metadata": {},
   "source": [
    "So, now we have space that is linear, has an inner product, and complete.\n",
    "If you see above we discussed a problem referenced as paragraph **X** we were looking for creating an infinite dictionary. We wanted p to be infinite, which means we want our space to be of infinite dimensions. So, we can say we need a **<font color=#02b5af >Hilbert Space</font>**\n",
    "\n",
    "***"
   ]
  },
  {
   "cell_type": "markdown",
   "metadata": {},
   "source": [
    "Now we have a complete, linear space with infinite dimensions but this is not enough we also need to have some sort of linear structure. it turns out there are some small changes that can help us in getting linear structure."
   ]
  },
  {
   "cell_type": "markdown",
   "metadata": {},
   "source": [
    "There is one property which can help  :\n",
    "\n",
    "**<font color=#02b5af >Property of having evaluation functionals continous.</font>**\n",
    "\n",
    "Let's see this in detail.\n"
   ]
  },
  {
   "cell_type": "markdown",
   "metadata": {},
   "source": [
    "**<font color=#02b5af >Functionals</font>** are mathematical objects which can take input as a function and return a number.\n",
    "\n",
    "**<font color=#02b5af >Evaluation Functionals</font>** are the functions that return the value of the function at a point that evaluates a function.\n",
    "\n",
    "So the evaluation functionals are continuous means that if two functions are close then the evaluation functions are also going to be close. They just map functions into values.\n",
    "\n",
    "if $$\\vert \\vert f-f^` \\vert \\vert \\leq \\delta $$ "
   ]
  },
  {
   "cell_type": "markdown",
   "metadata": {},
   "source": [
    "then there exists a \n",
    "$$ \\epsilon _{\\delta}  $$"
   ]
  },
  {
   "cell_type": "markdown",
   "metadata": {},
   "source": [
    "and $$ \\vert f(x) - f`(x) \\vert <  \\epsilon _{\\delta} $$"
   ]
  },
  {
   "cell_type": "markdown",
   "metadata": {},
   "source": [
    "So, we are looking for something which has these two properties :\n",
    "\n",
    "<font color= #005c20>\n",
    "\n",
    "> 1. It should have the property of evaluation functionals are continuous. \n",
    "\n",
    "> 2. It should be from the Hilbert space of functions.\n",
    "\n",
    "To understand it better, let's take two examples, one which has the property of evaluation functionals are continuous but not the Hilbert space of functions and vice versa\n",
    "    \n",
    "</font>\n",
    "\n",
    "***\n",
    "  "
   ]
  },
  {
   "cell_type": "markdown",
   "metadata": {},
   "source": [
    "**<font color=#b50264>Example 1 :</font>**\n",
    "\n",
    "Let's take a real line x ($ X \\longrightarrow$ $ R $ )\n",
    "\n",
    "C(x) = space of continous function"
   ]
  },
  {
   "cell_type": "markdown",
   "metadata": {},
   "source": [
    "What is the natural norm in the case of continuous function :\n",
    "\n",
    "If we want to attach a length to a continous function we use **<font color=#02b5af >supremum norm</font>** :\n",
    "\n",
    "$$ \\vert \\vert f \\vert \\vert_{\\infty} = sup_{x} \\vert f(x) \\vert $$"
   ]
  },
  {
   "cell_type": "markdown",
   "metadata": {},
   "source": [
    "This is not a Hilbert space because Norm is not coming from the inner product, this is a $L^1$ norm.\n",
    "\n",
    "**<font color=#b50264>Note:</font>** if the norm of the function is not coming from the inner product then it's not a Hilbert space."
   ]
  },
  {
   "cell_type": "markdown",
   "metadata": {},
   "source": [
    "What about the property of **<font color=#02b5af >evaluation functions</font>**, can we evaluate this continuous function at a given point? \n",
    "\n",
    "Here the norm is actually evaluating the function at an extremely positive point. So, if the functions are close then the points are also going to be close.\n",
    "\n",
    "This example is not a part of Hilbert's space but following the property of evaluation functionals."
   ]
  },
  {
   "cell_type": "markdown",
   "metadata": {},
   "source": [
    "**<font color=#b50264>Example 2:</font>**"
   ]
  },
  {
   "cell_type": "markdown",
   "metadata": {},
   "source": [
    "Take $L^2$ of R,  which is just space of function such that it is finite.\n",
    "\n",
    "$$ L^2(R) = \\{f \\int \\vert f(x) \\vert^2 dx < x \\} $$"
   ]
  },
  {
   "cell_type": "markdown",
   "metadata": {},
   "source": [
    "As, the norm comes from the inner product it is a Hilbert space.\n",
    "\n",
    "**<font color=#b50264>What about the second requirement:</font>**\n",
    "\n",
    "If we take $L^2$, does it has continuous evaluation functions. No, because it is defined from the equivalence class of functions.\n",
    "\n",
    "<img src = \"img2.gif\">"
   ]
  },
  {
   "cell_type": "markdown",
   "metadata": {},
   "source": [
    "This function is completely defined by integral of functions and integral of functions does not care about what we do at one single point. So, there is no way to control :\n",
    "\n",
    "$$ \\vert f(x) - \\vert f(x)` \\vert $$"
   ]
  },
  {
   "cell_type": "markdown",
   "metadata": {},
   "source": [
    "So, $L^2$ is a space that satisfies the assumption of Hilbert space **<font color=#02b5af >(linear space, inner product, completeness)</font>** but does not satisfy the evaluation functional assumption."
   ]
  },
  {
   "cell_type": "markdown",
   "metadata": {},
   "source": [
    "We need a function space with a norm but with the power to control what the function does at every point.\n",
    "\n",
    "***"
   ]
  },
  {
   "cell_type": "markdown",
   "metadata": {},
   "source": [
    "So, we need a function space where norm controls what the function does at every point, this is what we call a **<font color=#02b5af >Reproducing Kernel Hilbert Space (RKHS)</font>**\n",
    "\n",
    "<img src =\"rkhs.png\">\n"
   ]
  },
  {
   "cell_type": "markdown",
   "metadata": {},
   "source": [
    "**<font color=#b50264>Reproducing kernel Hilbert space (RKHS)</font>** is a space satisfying these four properties :\n",
    "\n",
    "<font color= #005c20>\n",
    "\n",
    "> 1. It is a linear space.\n",
    "\n",
    "> 2. It has a norm defined by the inner product.\n",
    "\n",
    "> 3. It is a complete place. \n",
    "\n",
    "> 4 It has evaluation functional property.\n",
    "    \n",
    "</font>\n"
   ]
  },
  {
   "cell_type": "markdown",
   "metadata": {},
   "source": [
    "Whenever all these assumptions are satisfied, we get a function which is called a **<font color=#02b5af >Reproducing Kernel</font>**"
   ]
  },
  {
   "cell_type": "markdown",
   "metadata": {},
   "source": [
    "**<font color=#02b5af >Reproducing kernel is a function</font>** K x*x $\\longrightarrow $ R goes from input to output and has two properties.\n",
    "\n",
    "\n",
    "> If we fix one entry K(x,.) $\\varepsilon$ H, this function belongs to Hilbert space and if we take the inner product of any function with this function K(x,.) then this gives us f(x) back.\n",
    "\n",
    "$$ <f, K(x,.>) \\geqslant f(x) $$"
   ]
  },
  {
   "cell_type": "markdown",
   "metadata": {},
   "source": [
    "If H is RKHS $\\Longrightarrow \\exists$  reproducing kernel \n",
    "\n",
    "If H has reproducing kernel $\\Longrightarrow \\exists$ RKHS \n",
    "\n",
    "\n",
    "***\n",
    "\n"
   ]
  },
  {
   "cell_type": "markdown",
   "metadata": {},
   "source": [
    "**<font color=#b50264>Summary:</font>**\n",
    "\n",
    "RKHS is just a general mathematical object. it is just Hilbert space of function + evaluation functional requirement.\n",
    "Then we saw two examples of continuous functions for one reason or another they gave rise to RKHS.\n",
    "\n",
    "Then we saw a theorem states whenever we have reproducing kernel Hilbert space we have some special function associated with it what we call a reproducing kernel. "
   ]
  },
  {
   "cell_type": "markdown",
   "metadata": {},
   "source": [
    "**<font color=#b50264>Example :</font>**"
   ]
  },
  {
   "cell_type": "markdown",
   "metadata": {},
   "source": [
    "$$ H : \\{ f :  X \\longrightarrow  R  | \\exists  w  \\epsilon R^p , f = \\sum_{j=1}^p w^j \\phi_{j}  \\} $$"
   ]
  },
  {
   "cell_type": "markdown",
   "metadata": {},
   "source": [
    "is it a hilbert space ?"
   ]
  },
  {
   "cell_type": "markdown",
   "metadata": {},
   "source": [
    "It is a linear, how do we have inner product \n",
    "\n",
    "$$ <f,f`>_H = <w,w`>_{R^p} $$"
   ]
  },
  {
   "cell_type": "markdown",
   "metadata": {},
   "source": [
    "$$ \\vert \\vert f(x) \\leq \\vert \\vert w \\vert \\vert \\sqrt \\sum_{j=1}^p  (\\phi_{j}(x)^2)   $$"
   ]
  },
  {
   "cell_type": "markdown",
   "metadata": {},
   "source": [
    "As, the inner product define the norm so, it is a Hilbert space.\n",
    "\n",
    "**<font color=#b50264>Is this the reproducing kernel for this space?</font>**\n",
    "\n",
    "Remove one entry and check if it is still a function in H space.\n",
    "\n",
    "$$ K(x,.) = \\sqrt \\sum_{j=1}^p  (\\phi_{j} . (x) \\phi_{j})   $$\n",
    "\n",
    "this is just a linear combination of a bunch of numbers, so this still belongs to H.\n",
    "\n",
    "\n",
    "\n",
    "\n"
   ]
  },
  {
   "cell_type": "markdown",
   "metadata": {},
   "source": [
    "So, it is a reproducing kernel for this space.\n",
    "\n",
    "***"
   ]
  },
  {
   "cell_type": "markdown",
   "metadata": {},
   "source": [
    "***\n",
    "Let's see a application of reproducing kernel and how they solve the problem of support vector machine."
   ]
  },
  {
   "cell_type": "markdown",
   "metadata": {},
   "source": [
    "We will be using **<font color=#b50264>Scikit-learn library</font>** for implementing the kernel. "
   ]
  },
  {
   "cell_type": "markdown",
   "metadata": {},
   "source": [
    "**<font color=#02b5af >Support vector machine SVM</font>** is a supervised machine learning classification algorithm. if the data is linearly separable in 2-d then the learning algorithm learns a boundary that divides the data with the aim to minimize the misclassification error.\n",
    "\n",
    "<img src = \"gif1.gif\">"
   ]
  },
  {
   "cell_type": "markdown",
   "metadata": {},
   "source": [
    "Our example here is about predicting if the bank currency note is authentic or not. \n",
    "\n",
    "We will be using 4 features :\n",
    "\n",
    "<font color= #005c20>\n",
    "\n",
    "> 1. Image variance.\n",
    "\n",
    "> 2. Image entropy.\n",
    "\n",
    "> 3. Curtosis of image.\n",
    "\n",
    "> 4. Wavelet transformed skewness of image.\n",
    "    \n",
    "</font>"
   ]
  },
  {
   "cell_type": "markdown",
   "metadata": {},
   "source": [
    "### <font color=#b50264>Importing libraries</font>"
   ]
  },
  {
   "cell_type": "code",
   "execution_count": 6,
   "metadata": {},
   "outputs": [],
   "source": [
    "import pandas as pd\n",
    "import matplotlib.pyplot as plt\n",
    "%matplotlib inline\n",
    "import numpy as np"
   ]
  },
  {
   "cell_type": "markdown",
   "metadata": {},
   "source": [
    "### <font color=#b50264> Loading the Dataset</font>"
   ]
  },
  {
   "cell_type": "markdown",
   "metadata": {},
   "source": [
    "Link of dataset : https://archive.ics.uci.edu/ml/datasets/banknote+authentication\n",
    "\n"
   ]
  },
  {
   "cell_type": "code",
   "execution_count": 7,
   "metadata": {},
   "outputs": [],
   "source": [
    "bdata = pd.read_csv(\"bill_authentication.csv\")"
   ]
  },
  {
   "cell_type": "markdown",
   "metadata": {},
   "source": [
    "### <font color=#b50264> Exploring the dataset</font>"
   ]
  },
  {
   "cell_type": "code",
   "execution_count": 9,
   "metadata": {},
   "outputs": [
    {
     "name": "stdout",
     "output_type": "stream",
     "text": [
      "(1372, 5)\n",
      "   Variance  Skewness  Curtosis  Entropy  Class\n",
      "0   3.62160    8.6661   -2.8073 -0.44699      0\n",
      "1   4.54590    8.1674   -2.4586 -1.46210      0\n",
      "2   3.86600   -2.6383    1.9242  0.10645      0\n",
      "3   3.45660    9.5228   -4.0112 -3.59440      0\n",
      "4   0.32924   -4.4552    4.5718 -0.98880      0\n"
     ]
    }
   ],
   "source": [
    "print(bdata.shape)\n",
    "print(bdata.head())"
   ]
  },
  {
   "cell_type": "markdown",
   "metadata": {},
   "source": [
    "### <font color=#b50264>Data Preprocessing</font>"
   ]
  },
  {
   "cell_type": "code",
   "execution_count": 33,
   "metadata": {},
   "outputs": [],
   "source": [
    "# dividing the data into train and test set\n",
    "\n",
    "X = bdata.drop('Class', axis=1)\n",
    "y = bdata['Class']\n",
    "\n",
    "from sklearn.model_selection import train_test_split\n",
    "X_train, X_test, y_train, y_test = train_test_split(X, y, test_size = 0.30)"
   ]
  },
  {
   "cell_type": "markdown",
   "metadata": {},
   "source": [
    "### <font color=#b50264>Making the model</font>"
   ]
  },
  {
   "cell_type": "code",
   "execution_count": 34,
   "metadata": {},
   "outputs": [
    {
     "data": {
      "text/plain": [
       "SVC(kernel='linear')"
      ]
     },
     "execution_count": 34,
     "metadata": {},
     "output_type": "execute_result"
    }
   ],
   "source": [
    "from sklearn.svm import SVC\n",
    "model = SVC(kernel='linear')\n",
    "model.fit(X_train, y_train)"
   ]
  },
  {
   "cell_type": "markdown",
   "metadata": {},
   "source": [
    "### <font color=#b50264>Making Predictions</font>"
   ]
  },
  {
   "cell_type": "code",
   "execution_count": 35,
   "metadata": {},
   "outputs": [
    {
     "name": "stdout",
     "output_type": "stream",
     "text": [
      "[[213   6]\n",
      " [  1 192]]\n",
      "              precision    recall  f1-score   support\n",
      "\n",
      "           0       1.00      0.97      0.98       219\n",
      "           1       0.97      0.99      0.98       193\n",
      "\n",
      "    accuracy                           0.98       412\n",
      "   macro avg       0.98      0.98      0.98       412\n",
      "weighted avg       0.98      0.98      0.98       412\n",
      "\n"
     ]
    }
   ],
   "source": [
    "y_pred = model.predict(X_test)\n",
    "\n",
    "from sklearn.metrics import classification_report, confusion_matrix\n",
    "print(confusion_matrix(y_test,y_pred))\n",
    "print(classification_report(y_test,y_pred))"
   ]
  },
  {
   "cell_type": "markdown",
   "metadata": {},
   "source": [
    "The Model is giving 7 misclassifications. Let's see if we can make it better with some kernel trick."
   ]
  },
  {
   "cell_type": "markdown",
   "metadata": {},
   "source": [
    "What if our data is not linearly seperable \n",
    "\n",
    "<img src = \"svm3.png\">"
   ]
  },
  {
   "cell_type": "markdown",
   "metadata": {},
   "source": [
    "In case of non-linearity , the straight line can not give us the decision boundary."
   ]
  },
  {
   "cell_type": "markdown",
   "metadata": {},
   "source": [
    "Instead of using SVM we need to use Kernel SVM. As , kernel projects the non-linearity of data from lower dimensions to linearly seperable in higher dimensions. "
   ]
  },
  {
   "cell_type": "markdown",
   "metadata": {},
   "source": [
    "### <font color=#b50264> Implementing Kernel SVM with Scikit-Learn</font>"
   ]
  },
  {
   "cell_type": "markdown",
   "metadata": {},
   "source": [
    "### <font color=#b50264>SVM with gaussian kernel</font>"
   ]
  },
  {
   "cell_type": "code",
   "execution_count": 36,
   "metadata": {},
   "outputs": [
    {
     "data": {
      "text/plain": [
       "SVC()"
      ]
     },
     "execution_count": 36,
     "metadata": {},
     "output_type": "execute_result"
    }
   ],
   "source": [
    "from sklearn.svm import SVC\n",
    "model = SVC(kernel='rbf')\n",
    "model.fit(X_train, y_train)"
   ]
  },
  {
   "cell_type": "code",
   "execution_count": 37,
   "metadata": {},
   "outputs": [
    {
     "name": "stdout",
     "output_type": "stream",
     "text": [
      "[[218   1]\n",
      " [  0 193]]\n",
      "              precision    recall  f1-score   support\n",
      "\n",
      "           0       1.00      1.00      1.00       219\n",
      "           1       0.99      1.00      1.00       193\n",
      "\n",
      "    accuracy                           1.00       412\n",
      "   macro avg       1.00      1.00      1.00       412\n",
      "weighted avg       1.00      1.00      1.00       412\n",
      "\n"
     ]
    }
   ],
   "source": [
    "y_pred = model.predict(X_test)\n",
    "\n",
    "from sklearn.metrics import classification_report, confusion_matrix\n",
    "print(confusion_matrix(y_test,y_pred))\n",
    "print(classification_report(y_test,y_pred))"
   ]
  },
  {
   "cell_type": "markdown",
   "metadata": {},
   "source": [
    "Our SVM with gaussian kernel is giving quite a good result with only one missclassification\n",
    "\n",
    "***\n",
    "\n",
    "***"
   ]
  },
  {
   "cell_type": "markdown",
   "metadata": {},
   "source": [
    "### <font color=#b50264>Hilbert space in quantum mechanics</font>"
   ]
  },
  {
   "cell_type": "markdown",
   "metadata": {},
   "source": [
    "In quantum mechanics, we try to explain the interaction of subatomic particles, wave-particle duality, and the principle of uncertainty."
   ]
  },
  {
   "cell_type": "markdown",
   "metadata": {},
   "source": [
    "The most important function to study the subatomic particle is **<font color=#02b5af >Wave function</font>**"
   ]
  },
  {
   "cell_type": "markdown",
   "metadata": {},
   "source": [
    "If we throw a ball, we have a function to give the parabolic path of the ball thrown or we can say the behavior of the thrown object.\n",
    "\n",
    "<img src =\"q1.png\">"
   ]
  },
  {
   "cell_type": "markdown",
   "metadata": {},
   "source": [
    "Similarly, wave function to define the behaviour of quantum particle.\n",
    "\n",
    "<img src =\"q3.png\">"
   ]
  },
  {
   "cell_type": "markdown",
   "metadata": {},
   "source": [
    "So, next question arises is that what is this behaviour like ?\n",
    "\n",
    "The behaviour of the quantum particle can always be described using the **<font color=#02b5af >combination of sine wave and the cosine wave.</font>**\n",
    "\n",
    "<img src = \"q4.png\">"
   ]
  },
  {
   "cell_type": "markdown",
   "metadata": {},
   "source": [
    "The wave function is the mathematical description of a quantum object takes the form of a wave."
   ]
  },
  {
   "cell_type": "markdown",
   "metadata": {},
   "source": [
    "What if our electron is inside a box amd can only move in 1-d ?\n",
    "\n",
    "Does it move like a wave ?\n",
    "\n",
    "<img src = \"q5.png\">\n"
   ]
  },
  {
   "cell_type": "markdown",
   "metadata": {},
   "source": [
    "No , wave function describes something totally different. The x-axis describes where the electron can be in space when we square the value of y-axis it give us something called **<font color=#02b5af >probability amplitude</font>**. \n",
    "\n",
    "<img src = \"q6.png\">"
   ]
  },
  {
   "cell_type": "markdown",
   "metadata": {},
   "source": [
    "The probability amplitude is  like a wave of probability. it describes the likelihood of finding the electron in a given place."
   ]
  },
  {
   "cell_type": "markdown",
   "metadata": {},
   "source": [
    "Let's understand it with an example, what is there a thief in town. \n",
    "\n",
    "Police can catch him if they know where will he strike next.\n",
    "\n",
    "There is a higher probability of police finding him in a wealthier district.\n",
    "\n",
    "<img src = \"q7.png\">"
   ]
  },
  {
   "cell_type": "markdown",
   "metadata": {},
   "source": [
    "This can be thought of as a wave of probability, it's not real but just a set of abstract numbers that can be assigned to various parts of the city."
   ]
  },
  {
   "cell_type": "markdown",
   "metadata": {},
   "source": [
    "In a similar way, a wave function describes different probabilities of finding the particle at different locations."
   ]
  },
  {
   "cell_type": "markdown",
   "metadata": {},
   "source": [
    "If the electron is detected at a certain location, its wave function instantly collapses to a point and there is a zero probability of finding it anywhere else.\n",
    "\n",
    "***"
   ]
  },
  {
   "cell_type": "markdown",
   "metadata": {},
   "source": [
    "**<font color=#b50264>What space do we need for defining the wave function ?</font>**"
   ]
  },
  {
   "cell_type": "markdown",
   "metadata": {},
   "source": [
    "Hilbert space is one of the choices of physicists for describing the state of the quantum systems.\n",
    "\n",
    "The concepts of vectors play a vital role in providing information about any object and Hilbert space is a vector space of all possible functions subjected to some properties we discussed earlier.\n",
    "\n",
    "The wave function in quantum mechanics tells us about the possible states which a particle can have and there might be infinite possibilities to it. This fits the definition of Hilbert space. Each function can be described as a point in vector space with axes are the basis of vector and co-ordinates are the scalar product between the basis function and wave function. Hilbert space help physicists in reducing it to a finite set of basis functions. "
   ]
  },
  {
   "cell_type": "markdown",
   "metadata": {},
   "source": [
    "As we saw that the probability amplitude is the measure of the probability for finding the particle in some region of space. So, the wave function is square-integrable in such a way that the integral over all space of modulus squared converges according to the criteria of cauchy convergence. So, the function space should satisfy all the conditions of Hilbert's space.\n",
    "\n",
    "***"
   ]
  },
  {
   "cell_type": "markdown",
   "metadata": {},
   "source": [
    "## <font color=#b50264>Research scope of Reproducing kernel Hilbert space</font>"
   ]
  },
  {
   "cell_type": "markdown",
   "metadata": {},
   "source": [
    "The future scope can include the use of reproducing kernel Hilbert space for proving the optimality of activation functions used in neural networks.\n",
    "The main task of the activation functions in deep learning is to provide non-linearity to the model. we can construct the non-linear functions using the theory of RKHS and activation function constructed from RKHS then it can be considered optimal.\n",
    "\n",
    "Why we can consider it optimal?\n",
    "\n",
    "Because the activation function which will be created using RKHS will follow the properties of RKHS and vector spaces. it can lead to an efficient mapping process with the help of the inner product. \n",
    "\n",
    "The future work can involve finding the possibilities of creating periodic activation functions like sine activation function using RKHS.\n",
    "\n"
   ]
  }
 ],
 "metadata": {
  "kernelspec": {
   "display_name": "Python 3",
   "language": "python",
   "name": "python3"
  },
  "language_info": {
   "codemirror_mode": {
    "name": "ipython",
    "version": 3
   },
   "file_extension": ".py",
   "mimetype": "text/x-python",
   "name": "python",
   "nbconvert_exporter": "python",
   "pygments_lexer": "ipython3",
   "version": "3.8.5"
  }
 },
 "nbformat": 4,
 "nbformat_minor": 4
}
